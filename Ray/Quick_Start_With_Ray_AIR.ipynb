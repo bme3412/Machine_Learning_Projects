{
 "cells": [
  {
   "cell_type": "code",
   "execution_count": 1,
   "id": "ae7af7f8-4a9f-404c-bf71-6779d5bb433d",
   "metadata": {},
   "outputs": [],
   "source": [
    "import ray\n",
    "from ray.air.config import ScalingConfig\n",
    "from ray.data.preprocessors import MinMaxScaler\n",
    "from ray.train.xgboost import XGBoostTrainer"
   ]
  },
  {
   "cell_type": "markdown",
   "id": "181e2e09-ba5b-408c-b55e-41840f177857",
   "metadata": {},
   "source": [
    "### Initialize Ray runtime"
   ]
  },
  {
   "cell_type": "code",
   "execution_count": 2,
   "id": "c7babc28-5c02-44c0-ac9f-fd67fac01ab4",
   "metadata": {},
   "outputs": [
    {
     "name": "stderr",
     "output_type": "stream",
     "text": [
      "2024-05-31 13:38:45,086\tINFO worker.py:1740 -- Started a local Ray instance. View the dashboard at \u001b[1m\u001b[32m127.0.0.1:8265 \u001b[39m\u001b[22m\n"
     ]
    },
    {
     "data": {
      "application/vnd.jupyter.widget-view+json": {
       "model_id": "cf874046be3e44e99b936d5de4ebbb9f",
       "version_major": 2,
       "version_minor": 0
      },
      "text/html": [
       "<div class=\"lm-Widget p-Widget lm-Panel p-Panel jp-Cell-outputWrapper\">\n",
       "    <div style=\"margin-left: 50px;display: flex;flex-direction: row;align-items: center\">\n",
       "        <div class=\"jp-RenderedHTMLCommon\" style=\"display: flex; flex-direction: row;\">\n",
       "  <svg viewBox=\"0 0 567 224\" fill=\"none\" xmlns=\"http://www.w3.org/2000/svg\" style=\"height: 3em;\">\n",
       "    <g clip-path=\"url(#clip0_4338_178347)\">\n",
       "        <path d=\"M341.29 165.561H355.29L330.13 129.051C345.63 123.991 354.21 112.051 354.21 94.2307C354.21 71.3707 338.72 58.1807 311.88 58.1807H271V165.561H283.27V131.661H311.8C314.25 131.661 316.71 131.501 319.01 131.351L341.25 165.561H341.29ZM283.29 119.851V70.0007H311.82C331.3 70.0007 342.34 78.2907 342.34 94.5507C342.34 111.271 331.34 119.861 311.82 119.861L283.29 119.851ZM451.4 138.411L463.4 165.561H476.74L428.74 58.1807H416L367.83 165.561H380.83L392.83 138.411H451.4ZM446.19 126.601H398L422 72.1407L446.24 126.601H446.19ZM526.11 128.741L566.91 58.1807H554.35L519.99 114.181L485.17 58.1807H472.44L514.01 129.181V165.541H526.13V128.741H526.11Z\" fill=\"var(--jp-ui-font-color0)\"/>\n",
       "        <path d=\"M82.35 104.44C84.0187 97.8827 87.8248 92.0678 93.1671 87.9146C98.5094 83.7614 105.083 81.5067 111.85 81.5067C118.617 81.5067 125.191 83.7614 130.533 87.9146C135.875 92.0678 139.681 97.8827 141.35 104.44H163.75C164.476 101.562 165.622 98.8057 167.15 96.2605L127.45 56.5605C121.071 60.3522 113.526 61.6823 106.235 60.3005C98.9443 58.9187 92.4094 54.9203 87.8602 49.0574C83.3109 43.1946 81.0609 35.8714 81.5332 28.4656C82.0056 21.0599 85.1679 14.0819 90.4252 8.8446C95.6824 3.60726 102.672 0.471508 110.08 0.0272655C117.487 -0.416977 124.802 1.86091 130.647 6.4324C136.493 11.0039 140.467 17.5539 141.821 24.8501C143.175 32.1463 141.816 39.6859 138 46.0505L177.69 85.7505C182.31 82.9877 187.58 81.4995 192.962 81.4375C198.345 81.3755 203.648 82.742 208.33 85.3976C213.012 88.0532 216.907 91.9029 219.616 96.5544C222.326 101.206 223.753 106.492 223.753 111.875C223.753 117.258 222.326 122.545 219.616 127.197C216.907 131.848 213.012 135.698 208.33 138.353C203.648 141.009 198.345 142.375 192.962 142.313C187.58 142.251 182.31 140.763 177.69 138L138 177.7C141.808 184.071 143.155 191.614 141.79 198.91C140.424 206.205 136.44 212.75 130.585 217.313C124.731 221.875 117.412 224.141 110.004 223.683C102.596 223.226 95.6103 220.077 90.3621 214.828C85.1139 209.58 81.9647 202.595 81.5072 195.187C81.0497 187.779 83.3154 180.459 87.878 174.605C92.4405 168.751 98.9853 164.766 106.281 163.401C113.576 162.035 121.119 163.383 127.49 167.19L167.19 127.49C165.664 124.941 164.518 122.182 163.79 119.3H141.39C139.721 125.858 135.915 131.673 130.573 135.826C125.231 139.98 118.657 142.234 111.89 142.234C105.123 142.234 98.5494 139.98 93.2071 135.826C87.8648 131.673 84.0587 125.858 82.39 119.3H60C58.1878 126.495 53.8086 132.78 47.6863 136.971C41.5641 141.163 34.1211 142.972 26.7579 142.059C19.3947 141.146 12.6191 137.574 7.70605 132.014C2.79302 126.454 0.0813599 119.29 0.0813599 111.87C0.0813599 104.451 2.79302 97.2871 7.70605 91.7272C12.6191 86.1673 19.3947 82.5947 26.7579 81.6817C34.1211 80.7686 41.5641 82.5781 47.6863 86.7696C53.8086 90.9611 58.1878 97.2456 60 104.44H82.35ZM100.86 204.32C103.407 206.868 106.759 208.453 110.345 208.806C113.93 209.159 117.527 208.258 120.522 206.256C123.517 204.254 125.725 201.276 126.771 197.828C127.816 194.38 127.633 190.677 126.253 187.349C124.874 184.021 122.383 181.274 119.205 179.577C116.027 177.88 112.359 177.337 108.826 178.042C105.293 178.746 102.113 180.654 99.8291 183.44C97.5451 186.226 96.2979 189.718 96.3 193.32C96.2985 195.364 96.7006 197.388 97.4831 199.275C98.2656 201.163 99.4132 202.877 100.86 204.32ZM204.32 122.88C206.868 120.333 208.453 116.981 208.806 113.396C209.159 109.811 208.258 106.214 206.256 103.219C204.254 100.223 201.275 98.0151 197.827 96.97C194.38 95.9249 190.676 96.1077 187.348 97.4873C184.02 98.8669 181.274 101.358 179.577 104.536C177.879 107.714 177.337 111.382 178.041 114.915C178.746 118.448 180.653 121.627 183.439 123.911C186.226 126.195 189.717 127.443 193.32 127.44C195.364 127.443 197.388 127.042 199.275 126.259C201.163 125.476 202.878 124.328 204.32 122.88ZM122.88 19.4205C120.333 16.8729 116.981 15.2876 113.395 14.9347C109.81 14.5817 106.213 15.483 103.218 17.4849C100.223 19.4868 98.0146 22.4654 96.9696 25.9131C95.9245 29.3608 96.1073 33.0642 97.4869 36.3922C98.8665 39.7202 101.358 42.4668 104.535 44.1639C107.713 45.861 111.381 46.4036 114.914 45.6992C118.447 44.9949 121.627 43.0871 123.911 40.301C126.195 37.515 127.442 34.0231 127.44 30.4205C127.44 28.3772 127.038 26.3539 126.255 24.4664C125.473 22.5788 124.326 20.8642 122.88 19.4205ZM19.42 100.86C16.8725 103.408 15.2872 106.76 14.9342 110.345C14.5813 113.93 15.4826 117.527 17.4844 120.522C19.4863 123.518 22.4649 125.726 25.9127 126.771C29.3604 127.816 33.0638 127.633 36.3918 126.254C39.7198 124.874 42.4664 122.383 44.1635 119.205C45.8606 116.027 46.4032 112.359 45.6988 108.826C44.9944 105.293 43.0866 102.114 40.3006 99.8296C37.5145 97.5455 34.0227 96.2983 30.42 96.3005C26.2938 96.3018 22.337 97.9421 19.42 100.86ZM100.86 100.86C98.3125 103.408 96.7272 106.76 96.3742 110.345C96.0213 113.93 96.9226 117.527 98.9244 120.522C100.926 123.518 103.905 125.726 107.353 126.771C110.8 127.816 114.504 127.633 117.832 126.254C121.16 124.874 123.906 122.383 125.604 119.205C127.301 116.027 127.843 112.359 127.139 108.826C126.434 105.293 124.527 102.114 121.741 99.8296C118.955 97.5455 115.463 96.2983 111.86 96.3005C109.817 96.299 107.793 96.701 105.905 97.4835C104.018 98.2661 102.303 99.4136 100.86 100.86Z\" fill=\"#00AEEF\"/>\n",
       "    </g>\n",
       "    <defs>\n",
       "        <clipPath id=\"clip0_4338_178347\">\n",
       "            <rect width=\"566.93\" height=\"223.75\" fill=\"white\"/>\n",
       "        </clipPath>\n",
       "    </defs>\n",
       "  </svg>\n",
       "</div>\n",
       "\n",
       "        <table class=\"jp-RenderedHTMLCommon\" style=\"border-collapse: collapse;color: var(--jp-ui-font-color1);font-size: var(--jp-ui-font-size1);\">\n",
       "    <tr>\n",
       "        <td style=\"text-align: left\"><b>Python version:</b></td>\n",
       "        <td style=\"text-align: left\"><b>3.10.8</b></td>\n",
       "    </tr>\n",
       "    <tr>\n",
       "        <td style=\"text-align: left\"><b>Ray version:</b></td>\n",
       "        <td style=\"text-align: left\"><b>2.23.0</b></td>\n",
       "    </tr>\n",
       "    <tr>\n",
       "    <td style=\"text-align: left\"><b>Dashboard:</b></td>\n",
       "    <td style=\"text-align: left\"><b><a href=\"http://127.0.0.1:8265\" target=\"_blank\">http://127.0.0.1:8265</a></b></td>\n",
       "</tr>\n",
       "\n",
       "</table>\n",
       "\n",
       "    </div>\n",
       "</div>\n"
      ],
      "text/plain": [
       "RayContext(dashboard_url='127.0.0.1:8265', python_version='3.10.8', ray_version='2.23.0', ray_commit='a0947ead5cd94b3d8ca5cdeb9422dccb12d03867')"
      ]
     },
     "execution_count": 2,
     "metadata": {},
     "output_type": "execute_result"
    },
    {
     "name": "stderr",
     "output_type": "stream",
     "text": [
      "\u001b[33m(raylet)\u001b[0m [2024-05-31 13:38:55,004 E 54985 21150980] (raylet) file_system_monitor.cc:111: /tmp/ray/session_2024-05-31_13-38-41_897327_54971 is over 95% full, available space: 2525532160; capacity: 245107195904. Object creation will fail if spilling is required.\n",
      "\u001b[33m(raylet)\u001b[0m bash: /Users/brendan/Desktop: is a directory\n",
      "\u001b[33m(raylet)\u001b[0m bash: line 0: exec: /Users/brendan/Desktop: cannot execute: Undefined error: 0\n",
      "\u001b[33m(raylet)\u001b[0m [2024-05-31 13:39:05,101 E 54985 21150980] (raylet) file_system_monitor.cc:111: /tmp/ray/session_2024-05-31_13-38-41_897327_54971 is over 95% full, available space: 2707894272; capacity: 245107195904. Object creation will fail if spilling is required.\n",
      "\u001b[33m(raylet)\u001b[0m [2024-05-31 13:39:15,200 E 54985 21150980] (raylet) file_system_monitor.cc:111: /tmp/ray/session_2024-05-31_13-38-41_897327_54971 is over 95% full, available space: 2708815872; capacity: 245107195904. Object creation will fail if spilling is required.\n",
      "\u001b[33m(raylet)\u001b[0m [2024-05-31 13:39:25,218 E 54985 21150980] (raylet) file_system_monitor.cc:111: /tmp/ray/session_2024-05-31_13-38-41_897327_54971 is over 95% full, available space: 3579023360; capacity: 245107195904. Object creation will fail if spilling is required.\n",
      "\u001b[33m(raylet)\u001b[0m [2024-05-31 13:39:35,306 E 54985 21150980] (raylet) file_system_monitor.cc:111: /tmp/ray/session_2024-05-31_13-38-41_897327_54971 is over 95% full, available space: 3578937344; capacity: 245107195904. Object creation will fail if spilling is required.\n",
      "\u001b[33m(raylet)\u001b[0m [2024-05-31 13:39:45,312 E 54985 21150980] (raylet) file_system_monitor.cc:111: /tmp/ray/session_2024-05-31_13-38-41_897327_54971 is over 95% full, available space: 4705763328; capacity: 245107195904. Object creation will fail if spilling is required.\n",
      "\u001b[33m(raylet)\u001b[0m [2024-05-31 13:39:55,316 E 54985 21150980] (raylet) file_system_monitor.cc:111: /tmp/ray/session_2024-05-31_13-38-41_897327_54971 is over 95% full, available space: 4707336192; capacity: 245107195904. Object creation will fail if spilling is required.\n",
      "\u001b[33m(raylet)\u001b[0m [2024-05-31 13:39:58,349 E 54985 21150945] (raylet) worker_pool.cc:565: Some workers of the worker process(55017) have not registered within the timeout. The process is dead, probably it crashed during start.\n",
      "\u001b[33m(raylet)\u001b[0m bash: /Users/brendan/Desktop: is a directory\n",
      "\u001b[33m(raylet)\u001b[0m bash: line 0: exec: /Users/brendan/Desktop: cannot execute: Undefined error: 0\n",
      "\u001b[33m(raylet)\u001b[0m [2024-05-31 13:40:05,318 E 54985 21150980] (raylet) file_system_monitor.cc:111: /tmp/ray/session_2024-05-31_13-38-41_897327_54971 is over 95% full, available space: 4706828288; capacity: 245107195904. Object creation will fail if spilling is required.\n",
      "\u001b[33m(raylet)\u001b[0m [2024-05-31 13:40:15,318 E 54985 21150980] (raylet) file_system_monitor.cc:111: /tmp/ray/session_2024-05-31_13-38-41_897327_54971 is over 95% full, available space: 4707618816; capacity: 245107195904. Object creation will fail if spilling is required.\n",
      "\u001b[33m(raylet)\u001b[0m [2024-05-31 13:40:25,320 E 54985 21150980] (raylet) file_system_monitor.cc:111: /tmp/ray/session_2024-05-31_13-38-41_897327_54971 is over 95% full, available space: 4707495936; capacity: 245107195904. Object creation will fail if spilling is required.\n",
      "\u001b[33m(raylet)\u001b[0m [2024-05-31 13:40:35,419 E 54985 21150980] (raylet) file_system_monitor.cc:111: /tmp/ray/session_2024-05-31_13-38-41_897327_54971 is over 95% full, available space: 4707475456; capacity: 245107195904. Object creation will fail if spilling is required.\n",
      "\u001b[33m(raylet)\u001b[0m [2024-05-31 13:40:45,424 E 54985 21150980] (raylet) file_system_monitor.cc:111: /tmp/ray/session_2024-05-31_13-38-41_897327_54971 is over 95% full, available space: 4707409920; capacity: 245107195904. Object creation will fail if spilling is required.\n",
      "\u001b[33m(raylet)\u001b[0m [2024-05-31 13:40:55,427 E 54985 21150980] (raylet) file_system_monitor.cc:111: /tmp/ray/session_2024-05-31_13-38-41_897327_54971 is over 95% full, available space: 4707332096; capacity: 245107195904. Object creation will fail if spilling is required.\n",
      "\u001b[33m(raylet)\u001b[0m [2024-05-31 13:40:58,375 E 54985 21150945] (raylet) worker_pool.cc:565: Some workers of the worker process(55070) have not registered within the timeout. The process is dead, probably it crashed during start.\n"
     ]
    }
   ],
   "source": [
    "ray.init()"
   ]
  },
  {
   "cell_type": "markdown",
   "id": "2373b9cc-1399-4afd-976a-6525278c3609",
   "metadata": {},
   "source": [
    "### Load and prepare data with Ray Datasets"
   ]
  },
  {
   "cell_type": "markdown",
   "id": "a5108fca-3baf-42f9-b1fd-7f4152752b4b",
   "metadata": {},
   "source": [
    "#### Read Parquet file to Ray dataset"
   ]
  },
  {
   "cell_type": "code",
   "execution_count": 3,
   "id": "9df70509-8353-4542-ba29-f7d397496221",
   "metadata": {},
   "outputs": [
    {
     "data": {
      "application/vnd.jupyter.widget-view+json": {
       "model_id": "7bd4a3ae2914455ca260d5b31e258b41",
       "version_major": 2,
       "version_minor": 0
      },
      "text/plain": [
       "Parquet Files Sample 0:   0%|                             | 0/1 [00:00<?, ?it/s]"
      ]
     },
     "metadata": {},
     "output_type": "display_data"
    }
   ],
   "source": [
    "dataset = ray.data.read_parquet('yellow_tripdata_2021-01.parquet')"
   ]
  },
  {
   "cell_type": "markdown",
   "id": "730ad8dc-1ce9-4abc-95f4-1de09b34e256",
   "metadata": {},
   "source": [
    "Returned `dataset` is Ray Dataset - standrd way to load and exchange data\n",
    "In AIR, datasets are usex extensively for data loading and transforamtion"
   ]
  },
  {
   "cell_type": "markdown",
   "id": "4e2e3058-2e2a-4343-942d-072668a0cbed",
   "metadata": {},
   "source": [
    "#### Split data into training and validation subsets"
   ]
  },
  {
   "cell_type": "code",
   "execution_count": 4,
   "id": "a92e9cc6-23d4-48ab-ac81-a3e4ca62a8e2",
   "metadata": {},
   "outputs": [
    {
     "data": {
      "application/vnd.jupyter.widget-view+json": {
       "model_id": "c86cd52e879c481a89c39cf0760b9f4c",
       "version_major": 2,
       "version_minor": 0
      },
      "text/plain": [
       "Read progress 0:   0%|                                    | 0/1 [00:00<?, ?it/s]"
      ]
     },
     "metadata": {},
     "output_type": "display_data"
    }
   ],
   "source": [
    "train_dataset, valid_dataset = dataset.train_test_split(test_size=.3)"
   ]
  },
  {
   "cell_type": "markdown",
   "id": "876b0207-1746-4f31-90df-8230b34cba27",
   "metadata": {},
   "source": [
    "#### Split datasets into blocks for parallel preprocessing"
   ]
  },
  {
   "cell_type": "code",
   "execution_count": 5,
   "id": "51ee3574-df3f-4f6e-83bb-3bd28e898ca9",
   "metadata": {},
   "outputs": [],
   "source": [
    "train_dataset = train_dataset.repartition(num_blocks=3)\n",
    "valid_dataset = valid_dataset.repartition(num_blocks=3)"
   ]
  },
  {
   "cell_type": "markdown",
   "id": "fce8875a-0918-4412-b9cc-8e5bfb284707",
   "metadata": {},
   "source": [
    "`num_blocks` should be lower than number of cores in the cluster"
   ]
  },
  {
   "cell_type": "markdown",
   "id": "423ea3a9-47c3-4500-8841-70c2317de1af",
   "metadata": {},
   "source": [
    "#### Define a preprocessor to normalize the columns by their range"
   ]
  },
  {
   "cell_type": "code",
   "execution_count": 6,
   "id": "cf1affd3-8826-4e18-9e68-3c37273cc72a",
   "metadata": {},
   "outputs": [],
   "source": [
    "preprocessor = MinMaxScaler(columns=['trip_distance','trip_duration'])"
   ]
  },
  {
   "cell_type": "markdown",
   "id": "215e41f5-44f6-4a6f-bc83-1a0c77b77697",
   "metadata": {},
   "source": [
    "`Preprocesors` are primitives that transform input data into featues. They operate on datasets, making them scalable and compatible with a variety of datasources and dataframe librairies.\n",
    "\n",
    "Ray AI Runtime comes with a collection of built-in preprocessors"
   ]
  },
  {
   "cell_type": "markdown",
   "id": "f56e992b-1186-4f89-b6cc-98841e7ad957",
   "metadata": {},
   "source": [
    "### Train the model with Ray Train"
   ]
  },
  {
   "cell_type": "markdown",
   "id": "bfb89545-9c05-497f-81c5-91eb98f52090",
   "metadata": {},
   "source": [
    "#### Create XGBoost trainer"
   ]
  },
  {
   "cell_type": "code",
   "execution_count": 7,
   "id": "118e53e5-4d0c-476b-8ec5-cfff32529f24",
   "metadata": {},
   "outputs": [],
   "source": [
    "trainer = XGBoostTrainer(\n",
    "    label_column='is_big_tip',\n",
    "    num_boost_round=100,\n",
    "    scaling_config=ScalingConfig(\n",
    "        use_gpu=False,\n",
    "    ),\n",
    "    params={\n",
    "        'objective':'binary:logistic',\n",
    "        'eval_metric':['logloss','error'],\n",
    "        'tree_method':'approx',\n",
    "    },\n",
    "    datasets = {'train': train_dataset, 'valid':valid_dataset},\n",
    "    preprocessor=preprocessor,\n",
    ")"
   ]
  },
  {
   "cell_type": "markdown",
   "id": "784b1879-33b9-44e3-b187-d3bd6254fadc",
   "metadata": {},
   "source": [
    "During training, `trainer` will use `num_blocks` workers, defined when repartitioning dataset"
   ]
  },
  {
   "cell_type": "markdown",
   "id": "82bee818-ade7-48a2-abe1-abe91e7e7516",
   "metadata": {},
   "source": [
    "#### Invoke training"
   ]
  },
  {
   "cell_type": "code",
   "execution_count": 8,
   "id": "d27fc75f-6d14-4de0-81e5-f56a0d669b05",
   "metadata": {},
   "outputs": [
    {
     "name": "stderr",
     "output_type": "stream",
     "text": [
      "2024-05-31 13:38:50,986\tINFO tune.py:614 -- [output] This uses the legacy output and progress reporter, as Jupyter notebooks are not supported by the new engine, yet. For more information, please see https://github.com/ray-project/ray/issues/36949\n"
     ]
    },
    {
     "name": "stdout",
     "output_type": "stream",
     "text": [
      "== Status ==\n",
      "Current time: 2024-05-31 13:38:58 (running for 00:00:00.13)\n",
      "Using FIFO scheduling algorithm.\n",
      "Logical resource usage: 2.0/8 CPUs, 0/0 GPUs\n",
      "Result logdir: /tmp/ray/session_2024-05-31_13-38-41_897327_54971/artifacts/2024-05-31_13-38-50/XGBoostTrainer_2024-05-31_13-38-50/driver_artifacts\n",
      "Number of trials: 1/1 (1 PENDING)\n",
      "\n",
      "\n",
      "== Status ==\n",
      "Current time: 2024-05-31 13:39:03 (running for 00:00:05.23)\n",
      "Using FIFO scheduling algorithm.\n",
      "Logical resource usage: 2.0/8 CPUs, 0/0 GPUs\n",
      "Result logdir: /tmp/ray/session_2024-05-31_13-38-41_897327_54971/artifacts/2024-05-31_13-38-50/XGBoostTrainer_2024-05-31_13-38-50/driver_artifacts\n",
      "Number of trials: 1/1 (1 PENDING)\n",
      "\n",
      "\n",
      "== Status ==\n",
      "Current time: 2024-05-31 13:39:08 (running for 00:00:10.24)\n",
      "Using FIFO scheduling algorithm.\n",
      "Logical resource usage: 2.0/8 CPUs, 0/0 GPUs\n",
      "Result logdir: /tmp/ray/session_2024-05-31_13-38-41_897327_54971/artifacts/2024-05-31_13-38-50/XGBoostTrainer_2024-05-31_13-38-50/driver_artifacts\n",
      "Number of trials: 1/1 (1 PENDING)\n",
      "\n",
      "\n",
      "== Status ==\n",
      "Current time: 2024-05-31 13:39:13 (running for 00:00:15.24)\n",
      "Using FIFO scheduling algorithm.\n",
      "Logical resource usage: 2.0/8 CPUs, 0/0 GPUs\n",
      "Result logdir: /tmp/ray/session_2024-05-31_13-38-41_897327_54971/artifacts/2024-05-31_13-38-50/XGBoostTrainer_2024-05-31_13-38-50/driver_artifacts\n",
      "Number of trials: 1/1 (1 PENDING)\n",
      "\n",
      "\n",
      "== Status ==\n",
      "Current time: 2024-05-31 13:39:18 (running for 00:00:20.28)\n",
      "Using FIFO scheduling algorithm.\n",
      "Logical resource usage: 2.0/8 CPUs, 0/0 GPUs\n",
      "Result logdir: /tmp/ray/session_2024-05-31_13-38-41_897327_54971/artifacts/2024-05-31_13-38-50/XGBoostTrainer_2024-05-31_13-38-50/driver_artifacts\n",
      "Number of trials: 1/1 (1 PENDING)\n",
      "\n",
      "\n",
      "== Status ==\n",
      "Current time: 2024-05-31 13:39:23 (running for 00:00:25.28)\n",
      "Using FIFO scheduling algorithm.\n",
      "Logical resource usage: 2.0/8 CPUs, 0/0 GPUs\n",
      "Result logdir: /tmp/ray/session_2024-05-31_13-38-41_897327_54971/artifacts/2024-05-31_13-38-50/XGBoostTrainer_2024-05-31_13-38-50/driver_artifacts\n",
      "Number of trials: 1/1 (1 PENDING)\n",
      "\n",
      "\n",
      "== Status ==\n",
      "Current time: 2024-05-31 13:39:28 (running for 00:00:30.30)\n",
      "Using FIFO scheduling algorithm.\n",
      "Logical resource usage: 2.0/8 CPUs, 0/0 GPUs\n",
      "Result logdir: /tmp/ray/session_2024-05-31_13-38-41_897327_54971/artifacts/2024-05-31_13-38-50/XGBoostTrainer_2024-05-31_13-38-50/driver_artifacts\n",
      "Number of trials: 1/1 (1 PENDING)\n",
      "\n",
      "\n",
      "== Status ==\n",
      "Current time: 2024-05-31 13:39:33 (running for 00:00:35.40)\n",
      "Using FIFO scheduling algorithm.\n",
      "Logical resource usage: 2.0/8 CPUs, 0/0 GPUs\n",
      "Result logdir: /tmp/ray/session_2024-05-31_13-38-41_897327_54971/artifacts/2024-05-31_13-38-50/XGBoostTrainer_2024-05-31_13-38-50/driver_artifacts\n",
      "Number of trials: 1/1 (1 PENDING)\n",
      "\n",
      "\n",
      "== Status ==\n",
      "Current time: 2024-05-31 13:39:38 (running for 00:00:40.43)\n",
      "Using FIFO scheduling algorithm.\n",
      "Logical resource usage: 2.0/8 CPUs, 0/0 GPUs\n",
      "Result logdir: /tmp/ray/session_2024-05-31_13-38-41_897327_54971/artifacts/2024-05-31_13-38-50/XGBoostTrainer_2024-05-31_13-38-50/driver_artifacts\n",
      "Number of trials: 1/1 (1 PENDING)\n",
      "\n",
      "\n",
      "== Status ==\n",
      "Current time: 2024-05-31 13:39:43 (running for 00:00:45.53)\n",
      "Using FIFO scheduling algorithm.\n",
      "Logical resource usage: 2.0/8 CPUs, 0/0 GPUs\n",
      "Result logdir: /tmp/ray/session_2024-05-31_13-38-41_897327_54971/artifacts/2024-05-31_13-38-50/XGBoostTrainer_2024-05-31_13-38-50/driver_artifacts\n",
      "Number of trials: 1/1 (1 PENDING)\n",
      "\n",
      "\n",
      "== Status ==\n",
      "Current time: 2024-05-31 13:39:48 (running for 00:00:50.57)\n",
      "Using FIFO scheduling algorithm.\n",
      "Logical resource usage: 2.0/8 CPUs, 0/0 GPUs\n",
      "Result logdir: /tmp/ray/session_2024-05-31_13-38-41_897327_54971/artifacts/2024-05-31_13-38-50/XGBoostTrainer_2024-05-31_13-38-50/driver_artifacts\n",
      "Number of trials: 1/1 (1 PENDING)\n",
      "\n",
      "\n",
      "== Status ==\n",
      "Current time: 2024-05-31 13:39:53 (running for 00:00:55.61)\n",
      "Using FIFO scheduling algorithm.\n",
      "Logical resource usage: 2.0/8 CPUs, 0/0 GPUs\n",
      "Result logdir: /tmp/ray/session_2024-05-31_13-38-41_897327_54971/artifacts/2024-05-31_13-38-50/XGBoostTrainer_2024-05-31_13-38-50/driver_artifacts\n",
      "Number of trials: 1/1 (1 PENDING)\n",
      "\n",
      "\n",
      "== Status ==\n",
      "Current time: 2024-05-31 13:39:58 (running for 00:01:00.63)\n",
      "Using FIFO scheduling algorithm.\n",
      "Logical resource usage: 2.0/8 CPUs, 0/0 GPUs\n",
      "Result logdir: /tmp/ray/session_2024-05-31_13-38-41_897327_54971/artifacts/2024-05-31_13-38-50/XGBoostTrainer_2024-05-31_13-38-50/driver_artifacts\n",
      "Number of trials: 1/1 (1 PENDING)\n",
      "\n",
      "\n",
      "== Status ==\n",
      "Current time: 2024-05-31 13:40:03 (running for 00:01:05.63)\n",
      "Using FIFO scheduling algorithm.\n",
      "Logical resource usage: 2.0/8 CPUs, 0/0 GPUs\n",
      "Result logdir: /tmp/ray/session_2024-05-31_13-38-41_897327_54971/artifacts/2024-05-31_13-38-50/XGBoostTrainer_2024-05-31_13-38-50/driver_artifacts\n",
      "Number of trials: 1/1 (1 PENDING)\n",
      "\n",
      "\n",
      "== Status ==\n",
      "Current time: 2024-05-31 13:40:08 (running for 00:01:10.67)\n",
      "Using FIFO scheduling algorithm.\n",
      "Logical resource usage: 2.0/8 CPUs, 0/0 GPUs\n",
      "Result logdir: /tmp/ray/session_2024-05-31_13-38-41_897327_54971/artifacts/2024-05-31_13-38-50/XGBoostTrainer_2024-05-31_13-38-50/driver_artifacts\n",
      "Number of trials: 1/1 (1 PENDING)\n",
      "\n",
      "\n",
      "== Status ==\n",
      "Current time: 2024-05-31 13:40:14 (running for 00:01:15.77)\n",
      "Using FIFO scheduling algorithm.\n",
      "Logical resource usage: 2.0/8 CPUs, 0/0 GPUs\n",
      "Result logdir: /tmp/ray/session_2024-05-31_13-38-41_897327_54971/artifacts/2024-05-31_13-38-50/XGBoostTrainer_2024-05-31_13-38-50/driver_artifacts\n",
      "Number of trials: 1/1 (1 PENDING)\n",
      "\n",
      "\n"
     ]
    },
    {
     "name": "stderr",
     "output_type": "stream",
     "text": [
      "2024-05-31 13:40:19,145\tWARNING tune.py:219 -- Stop signal received (e.g. via SIGINT/Ctrl+C), ending Ray Tune run. This will try to checkpoint the experiment state one last time. Press CTRL+C (or send SIGINT/SIGKILL/SIGTERM) to skip. \n",
      "2024-05-31 13:40:19,159\tWARNING experiment_state.py:205 -- Experiment state snapshotting has been triggered multiple times in the last 5.0 seconds. A snapshot is forced if `CheckpointConfig(num_to_keep)` is set, and a trial has checkpointed >= `num_to_keep` times since the last snapshot.\n",
      "You may want to consider increasing the `CheckpointConfig(num_to_keep)` or decreasing the frequency of saving checkpoints.\n",
      "You can suppress this error by setting the environment variable TUNE_WARN_EXCESSIVE_EXPERIMENT_CHECKPOINT_SYNC_THRESHOLD_S to a smaller value than the current threshold (5.0).\n",
      "2024-05-31 13:40:19,162\tINFO tune.py:1007 -- Wrote the latest version of all result files and experiment state to '/Users/brendan/ray_results/XGBoostTrainer_2024-05-31_13-38-50' in 0.0081s.\n"
     ]
    },
    {
     "name": "stdout",
     "output_type": "stream",
     "text": [
      "== Status ==\n",
      "Current time: 2024-05-31 13:40:19 (running for 00:01:20.88)\n",
      "Using FIFO scheduling algorithm.\n",
      "Logical resource usage: 2.0/8 CPUs, 0/0 GPUs\n",
      "Result logdir: /tmp/ray/session_2024-05-31_13-38-41_897327_54971/artifacts/2024-05-31_13-38-50/XGBoostTrainer_2024-05-31_13-38-50/driver_artifacts\n",
      "Number of trials: 1/1 (1 PENDING)\n",
      "\n",
      "\n",
      "== Status ==\n",
      "Current time: 2024-05-31 13:40:19 (running for 00:01:20.89)\n",
      "Using FIFO scheduling algorithm.\n",
      "Logical resource usage: 2.0/8 CPUs, 0/0 GPUs\n",
      "Result logdir: /tmp/ray/session_2024-05-31_13-38-41_897327_54971/artifacts/2024-05-31_13-38-50/XGBoostTrainer_2024-05-31_13-38-50/driver_artifacts\n",
      "Number of trials: 1/1 (1 PENDING)\n",
      "\n",
      "\n"
     ]
    },
    {
     "name": "stderr",
     "output_type": "stream",
     "text": [
      "2024-05-31 13:40:29,216\tINFO tune.py:1039 -- Total run time: 98.23 seconds (80.88 seconds for the tuning loop).\n",
      "2024-05-31 13:40:29,217\tWARNING tune.py:1049 -- Training has been interrupted, but the most recent state was saved.\n",
      "Resume training with: <FrameworkTrainer>.restore(path=\"/Users/brendan/ray_results/XGBoostTrainer_2024-05-31_13-38-50\", ...)\n",
      "2024-05-31 13:40:29,237\tWARNING experiment_analysis.py:180 -- Failed to fetch metrics for 1 trial(s):\n",
      "- XGBoostTrainer_a498a_00000: FileNotFoundError('Could not fetch metrics for XGBoostTrainer_a498a_00000: both result.json and progress.csv were not found at /Users/brendan/ray_results/XGBoostTrainer_2024-05-31_13-38-50/XGBoostTrainer_a498a_00000_0_2024-05-31_13-38-58')\n"
     ]
    }
   ],
   "source": [
    "result = trainer.fit()"
   ]
  },
  {
   "cell_type": "markdown",
   "id": "d5663a25-0dbb-43a5-a4bc-56c3742407b5",
   "metadata": {},
   "source": [
    "#### Report results"
   ]
  },
  {
   "cell_type": "markdown",
   "id": "45ffdf4d-63b6-495c-8789-eaf7f09dd215",
   "metadata": {},
   "source": []
  },
  {
   "cell_type": "markdown",
   "id": "9cf874f5-0182-4924-bceb-4ce9d9b73cc6",
   "metadata": {},
   "source": [
    "#### Shutdown Ray runtime"
   ]
  },
  {
   "cell_type": "code",
   "execution_count": 9,
   "id": "2529b6ed-823b-40ad-96a2-be41cdf57138",
   "metadata": {},
   "outputs": [],
   "source": [
    "ray.shutdown()"
   ]
  },
  {
   "cell_type": "code",
   "execution_count": null,
   "id": "3081ef5d-1c55-4cf3-bedf-17375ebb35d0",
   "metadata": {},
   "outputs": [],
   "source": []
  }
 ],
 "metadata": {
  "kernelspec": {
   "display_name": "Python 3 (ipykernel)",
   "language": "python",
   "name": "python3"
  },
  "language_info": {
   "codemirror_mode": {
    "name": "ipython",
    "version": 3
   },
   "file_extension": ".py",
   "mimetype": "text/x-python",
   "name": "python",
   "nbconvert_exporter": "python",
   "pygments_lexer": "ipython3",
   "version": "3.10.8"
  }
 },
 "nbformat": 4,
 "nbformat_minor": 5
}
