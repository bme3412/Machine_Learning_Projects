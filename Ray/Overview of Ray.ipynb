{
 "cells": [
  {
   "cell_type": "code",
   "execution_count": 27,
   "id": "101e3791-29d2-4b98-86a1-81f350ab5808",
   "metadata": {},
   "outputs": [],
   "source": [
    "import time\n",
    "from operator import itemgetter\n",
    "\n",
    "import pandas as pd\n",
    "from sklearn.datasets import fetch_california_housing\n",
    "from sklearn.ensemble import RandomForestRegressor\n",
    "from sklearn.metrics import mean_squared_error\n",
    "from sklearn.model_selection import train_test_split"
   ]
  },
  {
   "cell_type": "markdown",
   "id": "5dd83ffa-67de-4f8d-b34e-339cbfac5ad9",
   "metadata": {},
   "source": [
    "#### Prepare dataset"
   ]
  },
  {
   "cell_type": "code",
   "execution_count": 28,
   "id": "4bb19817-e6be-405e-8098-26ebad882423",
   "metadata": {},
   "outputs": [],
   "source": [
    "X, y = fetch_california_housing(return_X_y=True, as_frame=True)\n",
    "X_train, X_test, y_train, y_test = train_test_split(\n",
    "    X, y, test_size=.2, random_state=201\n",
    ")"
   ]
  },
  {
   "cell_type": "code",
   "execution_count": 29,
   "id": "900568a6-6a07-417b-bde1-3509c8bfa6c9",
   "metadata": {},
   "outputs": [
    {
     "data": {
      "text/html": [
       "<div>\n",
       "<style scoped>\n",
       "    .dataframe tbody tr th:only-of-type {\n",
       "        vertical-align: middle;\n",
       "    }\n",
       "\n",
       "    .dataframe tbody tr th {\n",
       "        vertical-align: top;\n",
       "    }\n",
       "\n",
       "    .dataframe thead th {\n",
       "        text-align: right;\n",
       "    }\n",
       "</style>\n",
       "<table border=\"1\" class=\"dataframe\">\n",
       "  <thead>\n",
       "    <tr style=\"text-align: right;\">\n",
       "      <th></th>\n",
       "      <th>MedInc</th>\n",
       "      <th>HouseAge</th>\n",
       "      <th>AveRooms</th>\n",
       "      <th>AveBedrms</th>\n",
       "      <th>Population</th>\n",
       "      <th>AveOccup</th>\n",
       "      <th>Latitude</th>\n",
       "      <th>Longitude</th>\n",
       "    </tr>\n",
       "  </thead>\n",
       "  <tbody>\n",
       "    <tr>\n",
       "      <th>0</th>\n",
       "      <td>8.3252</td>\n",
       "      <td>41.0</td>\n",
       "      <td>6.984127</td>\n",
       "      <td>1.023810</td>\n",
       "      <td>322.0</td>\n",
       "      <td>2.555556</td>\n",
       "      <td>37.88</td>\n",
       "      <td>-122.23</td>\n",
       "    </tr>\n",
       "    <tr>\n",
       "      <th>1</th>\n",
       "      <td>8.3014</td>\n",
       "      <td>21.0</td>\n",
       "      <td>6.238137</td>\n",
       "      <td>0.971880</td>\n",
       "      <td>2401.0</td>\n",
       "      <td>2.109842</td>\n",
       "      <td>37.86</td>\n",
       "      <td>-122.22</td>\n",
       "    </tr>\n",
       "    <tr>\n",
       "      <th>2</th>\n",
       "      <td>7.2574</td>\n",
       "      <td>52.0</td>\n",
       "      <td>8.288136</td>\n",
       "      <td>1.073446</td>\n",
       "      <td>496.0</td>\n",
       "      <td>2.802260</td>\n",
       "      <td>37.85</td>\n",
       "      <td>-122.24</td>\n",
       "    </tr>\n",
       "    <tr>\n",
       "      <th>3</th>\n",
       "      <td>5.6431</td>\n",
       "      <td>52.0</td>\n",
       "      <td>5.817352</td>\n",
       "      <td>1.073059</td>\n",
       "      <td>558.0</td>\n",
       "      <td>2.547945</td>\n",
       "      <td>37.85</td>\n",
       "      <td>-122.25</td>\n",
       "    </tr>\n",
       "    <tr>\n",
       "      <th>4</th>\n",
       "      <td>3.8462</td>\n",
       "      <td>52.0</td>\n",
       "      <td>6.281853</td>\n",
       "      <td>1.081081</td>\n",
       "      <td>565.0</td>\n",
       "      <td>2.181467</td>\n",
       "      <td>37.85</td>\n",
       "      <td>-122.25</td>\n",
       "    </tr>\n",
       "  </tbody>\n",
       "</table>\n",
       "</div>"
      ],
      "text/plain": [
       "   MedInc  HouseAge  AveRooms  AveBedrms  Population  AveOccup  Latitude  \\\n",
       "0  8.3252      41.0  6.984127   1.023810       322.0  2.555556     37.88   \n",
       "1  8.3014      21.0  6.238137   0.971880      2401.0  2.109842     37.86   \n",
       "2  7.2574      52.0  8.288136   1.073446       496.0  2.802260     37.85   \n",
       "3  5.6431      52.0  5.817352   1.073059       558.0  2.547945     37.85   \n",
       "4  3.8462      52.0  6.281853   1.081081       565.0  2.181467     37.85   \n",
       "\n",
       "   Longitude  \n",
       "0    -122.23  \n",
       "1    -122.22  \n",
       "2    -122.24  \n",
       "3    -122.25  \n",
       "4    -122.25  "
      ]
     },
     "execution_count": 29,
     "metadata": {},
     "output_type": "execute_result"
    }
   ],
   "source": [
    "X.head()"
   ]
  },
  {
   "cell_type": "markdown",
   "id": "91f4d233-a4bf-4b2e-9b24-c742d8d94910",
   "metadata": {},
   "source": [
    "#### Set number of models to train"
   ]
  },
  {
   "cell_type": "code",
   "execution_count": 30,
   "id": "b9111349-3090-4092-ab00-b0147a000b6b",
   "metadata": {},
   "outputs": [],
   "source": [
    "NUM_MODELS = 20"
   ]
  },
  {
   "cell_type": "markdown",
   "id": "649bff02-4064-4d8d-8ded-6d99c26f7f57",
   "metadata": {},
   "source": [
    "#### Implement Function to train and score model"
   ]
  },
  {
   "cell_type": "code",
   "execution_count": 31,
   "id": "04ff1af0-274b-47fb-8fe5-a56f4a6b5498",
   "metadata": {},
   "outputs": [],
   "source": [
    "def train_and_score_model(\n",
    "    train_set: pd.DataFrame,\n",
    "    test_set: pd.DataFrame,\n",
    "    train_labels: pd.Series,\n",
    "    test_labels: pd.Series,\n",
    "    n_estimators: int,\n",
    ") -> tuple[int, float]:\n",
    "    start_time = time.time()\n",
    "\n",
    "    model = RandomForestRegressor(n_estimators=n_estimators, random_state=201)\n",
    "    model.fit(train_set, train_labels)\n",
    "    y_pred = model.predict(test_set)\n",
    "    score = mean_squared_error(test_labels, y_pred)\n",
    "\n",
    "    time_delta = time.time() - start_time\n",
    "    print(f\"n_estimators={n_estimators}, mse={score:.4f}, took: {time_delta:.2f} seconds\")\n",
    "    return n_estimators, score\n",
    "\n"
   ]
  },
  {
   "cell_type": "markdown",
   "id": "214b52ed-6b0c-49e5-ae92-aa6500ca7746",
   "metadata": {},
   "source": [
    "This function takes data, creates a `RandomForestRegressor` model, trains it and scores the model on the test set.\n",
    "`train_and_score_model` returns a tuple: (n_estimators, mse_score)"
   ]
  },
  {
   "cell_type": "markdown",
   "id": "0577cd38-d420-4f5d-acd6-d676b4ec3349",
   "metadata": {},
   "source": [
    "#### Implement fucntion that runs **sequential** model training"
   ]
  },
  {
   "cell_type": "code",
   "execution_count": 32,
   "id": "846ace5c-4662-450d-b325-fdfd4805a2b9",
   "metadata": {},
   "outputs": [],
   "source": [
    "def run_sequential(n_models: int) -> list[tuple[int, float]]:\n",
    "    return [\n",
    "        train_and_score_model(\n",
    "            train_set=X_train,\n",
    "            test_set=X_test,\n",
    "            train_labels=y_train,\n",
    "            test_labels=y_test,\n",
    "            n_estimators=8 + 4* j,\n",
    "        )\n",
    "        for j in range(n_models)\n",
    "    ]"
   ]
  },
  {
   "cell_type": "markdown",
   "id": "9ef417b9-1100-4c47-b7cc-88407c9eb66f",
   "metadata": {},
   "source": [
    "This function trains `n_models` sequentially for an increasing number of `n_estimators` (increasing by 4 each model, e.e. 8, 12, 16, 20...).)\n",
    "`run_sequential` returns a list of tuples"
   ]
  },
  {
   "cell_type": "markdown",
   "id": "5b7327ed-c27d-45a9-8bd6-43ad02e4cee6",
   "metadata": {},
   "source": [
    "#### Run sqeuential model training"
   ]
  },
  {
   "cell_type": "code",
   "execution_count": 33,
   "id": "8c7cfc47-4bd9-4368-8448-84643655e5a0",
   "metadata": {},
   "outputs": [
    {
     "name": "stdout",
     "output_type": "stream",
     "text": [
      "n_estimators=8, mse=0.2983, took: 0.77 seconds\n",
      "n_estimators=12, mse=0.2826, took: 1.13 seconds\n",
      "n_estimators=16, mse=0.2761, took: 1.51 seconds\n",
      "n_estimators=20, mse=0.2716, took: 1.88 seconds\n",
      "n_estimators=24, mse=0.2694, took: 2.26 seconds\n",
      "n_estimators=28, mse=0.2686, took: 2.64 seconds\n",
      "n_estimators=32, mse=0.2662, took: 3.02 seconds\n",
      "n_estimators=36, mse=0.2663, took: 3.42 seconds\n",
      "n_estimators=40, mse=0.2635, took: 3.83 seconds\n",
      "n_estimators=44, mse=0.2622, took: 4.14 seconds\n",
      "n_estimators=48, mse=0.2616, took: 4.53 seconds\n",
      "n_estimators=52, mse=0.2609, took: 4.91 seconds\n",
      "n_estimators=56, mse=0.2615, took: 5.32 seconds\n",
      "n_estimators=60, mse=0.2608, took: 5.67 seconds\n",
      "n_estimators=64, mse=0.2614, took: 6.06 seconds\n",
      "n_estimators=68, mse=0.2616, took: 6.44 seconds\n",
      "n_estimators=72, mse=0.2617, took: 6.81 seconds\n",
      "n_estimators=76, mse=0.2614, took: 7.20 seconds\n",
      "n_estimators=80, mse=0.2607, took: 7.62 seconds\n",
      "n_estimators=84, mse=0.2601, took: 7.98 seconds\n",
      "CPU times: user 1min 26s, sys: 131 ms, total: 1min 27s\n",
      "Wall time: 1min 27s\n"
     ]
    }
   ],
   "source": [
    "%%time\n",
    "\n",
    "mse_scores = run_sequential(n_models=NUM_MODELS)"
   ]
  },
  {
   "cell_type": "markdown",
   "id": "c14c0c4d-26ca-4c59-9819-c6201c00566d",
   "metadata": {},
   "source": [
    "#### Analyze results"
   ]
  },
  {
   "cell_type": "code",
   "execution_count": 34,
   "id": "d72e5bbd-b7ce-4638-8aa1-6a64b8948cef",
   "metadata": {},
   "outputs": [
    {
     "name": "stdout",
     "output_type": "stream",
     "text": [
      "Best model: mse=0.2601, n_estimators=84\n"
     ]
    }
   ],
   "source": [
    "best = min(mse_scores, key=itemgetter(1))\n",
    "print(f\"Best model: mse={best[1]:.4f}, n_estimators={best[0]}\")"
   ]
  },
  {
   "cell_type": "markdown",
   "id": "69854bc3-35dc-4bc2-83af-a47ecff07e91",
   "metadata": {},
   "source": [
    "#### Parallel implementation"
   ]
  },
  {
   "cell_type": "markdown",
   "id": "ca71df04-dd60-40c5-9eb0-62a0fc1fdf55",
   "metadata": {},
   "source": [
    "In contrast to the prior approach, can now utilize all resources available, to train models in parallel. Ray will automaatically detect the number of cores on the computer or the amount of resources in a cluster to distribute each defined task."
   ]
  },
  {
   "cell_type": "markdown",
   "id": "a7a1727e-6f18-4e5a-a0ea-b1b9604d62b1",
   "metadata": {},
   "source": [
    "#### Initialize Ray runtime"
   ]
  },
  {
   "cell_type": "code",
   "execution_count": 35,
   "id": "6fd0ac77-a822-48d0-a992-ebe0e51ab72a",
   "metadata": {},
   "outputs": [
    {
     "name": "stderr",
     "output_type": "stream",
     "text": [
      "2024-05-29 14:08:38,275\tINFO worker.py:1740 -- Started a local Ray instance. View the dashboard at \u001b[1m\u001b[32m127.0.0.1:8265 \u001b[39m\u001b[22m\n"
     ]
    },
    {
     "data": {
      "application/vnd.jupyter.widget-view+json": {
       "model_id": "ef19525806c5466993621df1d45103d5",
       "version_major": 2,
       "version_minor": 0
      },
      "text/html": [
       "<div class=\"lm-Widget p-Widget lm-Panel p-Panel jp-Cell-outputWrapper\">\n",
       "    <div style=\"margin-left: 50px;display: flex;flex-direction: row;align-items: center\">\n",
       "        <div class=\"jp-RenderedHTMLCommon\" style=\"display: flex; flex-direction: row;\">\n",
       "  <svg viewBox=\"0 0 567 224\" fill=\"none\" xmlns=\"http://www.w3.org/2000/svg\" style=\"height: 3em;\">\n",
       "    <g clip-path=\"url(#clip0_4338_178347)\">\n",
       "        <path d=\"M341.29 165.561H355.29L330.13 129.051C345.63 123.991 354.21 112.051 354.21 94.2307C354.21 71.3707 338.72 58.1807 311.88 58.1807H271V165.561H283.27V131.661H311.8C314.25 131.661 316.71 131.501 319.01 131.351L341.25 165.561H341.29ZM283.29 119.851V70.0007H311.82C331.3 70.0007 342.34 78.2907 342.34 94.5507C342.34 111.271 331.34 119.861 311.82 119.861L283.29 119.851ZM451.4 138.411L463.4 165.561H476.74L428.74 58.1807H416L367.83 165.561H380.83L392.83 138.411H451.4ZM446.19 126.601H398L422 72.1407L446.24 126.601H446.19ZM526.11 128.741L566.91 58.1807H554.35L519.99 114.181L485.17 58.1807H472.44L514.01 129.181V165.541H526.13V128.741H526.11Z\" fill=\"var(--jp-ui-font-color0)\"/>\n",
       "        <path d=\"M82.35 104.44C84.0187 97.8827 87.8248 92.0678 93.1671 87.9146C98.5094 83.7614 105.083 81.5067 111.85 81.5067C118.617 81.5067 125.191 83.7614 130.533 87.9146C135.875 92.0678 139.681 97.8827 141.35 104.44H163.75C164.476 101.562 165.622 98.8057 167.15 96.2605L127.45 56.5605C121.071 60.3522 113.526 61.6823 106.235 60.3005C98.9443 58.9187 92.4094 54.9203 87.8602 49.0574C83.3109 43.1946 81.0609 35.8714 81.5332 28.4656C82.0056 21.0599 85.1679 14.0819 90.4252 8.8446C95.6824 3.60726 102.672 0.471508 110.08 0.0272655C117.487 -0.416977 124.802 1.86091 130.647 6.4324C136.493 11.0039 140.467 17.5539 141.821 24.8501C143.175 32.1463 141.816 39.6859 138 46.0505L177.69 85.7505C182.31 82.9877 187.58 81.4995 192.962 81.4375C198.345 81.3755 203.648 82.742 208.33 85.3976C213.012 88.0532 216.907 91.9029 219.616 96.5544C222.326 101.206 223.753 106.492 223.753 111.875C223.753 117.258 222.326 122.545 219.616 127.197C216.907 131.848 213.012 135.698 208.33 138.353C203.648 141.009 198.345 142.375 192.962 142.313C187.58 142.251 182.31 140.763 177.69 138L138 177.7C141.808 184.071 143.155 191.614 141.79 198.91C140.424 206.205 136.44 212.75 130.585 217.313C124.731 221.875 117.412 224.141 110.004 223.683C102.596 223.226 95.6103 220.077 90.3621 214.828C85.1139 209.58 81.9647 202.595 81.5072 195.187C81.0497 187.779 83.3154 180.459 87.878 174.605C92.4405 168.751 98.9853 164.766 106.281 163.401C113.576 162.035 121.119 163.383 127.49 167.19L167.19 127.49C165.664 124.941 164.518 122.182 163.79 119.3H141.39C139.721 125.858 135.915 131.673 130.573 135.826C125.231 139.98 118.657 142.234 111.89 142.234C105.123 142.234 98.5494 139.98 93.2071 135.826C87.8648 131.673 84.0587 125.858 82.39 119.3H60C58.1878 126.495 53.8086 132.78 47.6863 136.971C41.5641 141.163 34.1211 142.972 26.7579 142.059C19.3947 141.146 12.6191 137.574 7.70605 132.014C2.79302 126.454 0.0813599 119.29 0.0813599 111.87C0.0813599 104.451 2.79302 97.2871 7.70605 91.7272C12.6191 86.1673 19.3947 82.5947 26.7579 81.6817C34.1211 80.7686 41.5641 82.5781 47.6863 86.7696C53.8086 90.9611 58.1878 97.2456 60 104.44H82.35ZM100.86 204.32C103.407 206.868 106.759 208.453 110.345 208.806C113.93 209.159 117.527 208.258 120.522 206.256C123.517 204.254 125.725 201.276 126.771 197.828C127.816 194.38 127.633 190.677 126.253 187.349C124.874 184.021 122.383 181.274 119.205 179.577C116.027 177.88 112.359 177.337 108.826 178.042C105.293 178.746 102.113 180.654 99.8291 183.44C97.5451 186.226 96.2979 189.718 96.3 193.32C96.2985 195.364 96.7006 197.388 97.4831 199.275C98.2656 201.163 99.4132 202.877 100.86 204.32ZM204.32 122.88C206.868 120.333 208.453 116.981 208.806 113.396C209.159 109.811 208.258 106.214 206.256 103.219C204.254 100.223 201.275 98.0151 197.827 96.97C194.38 95.9249 190.676 96.1077 187.348 97.4873C184.02 98.8669 181.274 101.358 179.577 104.536C177.879 107.714 177.337 111.382 178.041 114.915C178.746 118.448 180.653 121.627 183.439 123.911C186.226 126.195 189.717 127.443 193.32 127.44C195.364 127.443 197.388 127.042 199.275 126.259C201.163 125.476 202.878 124.328 204.32 122.88ZM122.88 19.4205C120.333 16.8729 116.981 15.2876 113.395 14.9347C109.81 14.5817 106.213 15.483 103.218 17.4849C100.223 19.4868 98.0146 22.4654 96.9696 25.9131C95.9245 29.3608 96.1073 33.0642 97.4869 36.3922C98.8665 39.7202 101.358 42.4668 104.535 44.1639C107.713 45.861 111.381 46.4036 114.914 45.6992C118.447 44.9949 121.627 43.0871 123.911 40.301C126.195 37.515 127.442 34.0231 127.44 30.4205C127.44 28.3772 127.038 26.3539 126.255 24.4664C125.473 22.5788 124.326 20.8642 122.88 19.4205ZM19.42 100.86C16.8725 103.408 15.2872 106.76 14.9342 110.345C14.5813 113.93 15.4826 117.527 17.4844 120.522C19.4863 123.518 22.4649 125.726 25.9127 126.771C29.3604 127.816 33.0638 127.633 36.3918 126.254C39.7198 124.874 42.4664 122.383 44.1635 119.205C45.8606 116.027 46.4032 112.359 45.6988 108.826C44.9944 105.293 43.0866 102.114 40.3006 99.8296C37.5145 97.5455 34.0227 96.2983 30.42 96.3005C26.2938 96.3018 22.337 97.9421 19.42 100.86ZM100.86 100.86C98.3125 103.408 96.7272 106.76 96.3742 110.345C96.0213 113.93 96.9226 117.527 98.9244 120.522C100.926 123.518 103.905 125.726 107.353 126.771C110.8 127.816 114.504 127.633 117.832 126.254C121.16 124.874 123.906 122.383 125.604 119.205C127.301 116.027 127.843 112.359 127.139 108.826C126.434 105.293 124.527 102.114 121.741 99.8296C118.955 97.5455 115.463 96.2983 111.86 96.3005C109.817 96.299 107.793 96.701 105.905 97.4835C104.018 98.2661 102.303 99.4136 100.86 100.86Z\" fill=\"#00AEEF\"/>\n",
       "    </g>\n",
       "    <defs>\n",
       "        <clipPath id=\"clip0_4338_178347\">\n",
       "            <rect width=\"566.93\" height=\"223.75\" fill=\"white\"/>\n",
       "        </clipPath>\n",
       "    </defs>\n",
       "  </svg>\n",
       "</div>\n",
       "\n",
       "        <table class=\"jp-RenderedHTMLCommon\" style=\"border-collapse: collapse;color: var(--jp-ui-font-color1);font-size: var(--jp-ui-font-size1);\">\n",
       "    <tr>\n",
       "        <td style=\"text-align: left\"><b>Python version:</b></td>\n",
       "        <td style=\"text-align: left\"><b>3.10.8</b></td>\n",
       "    </tr>\n",
       "    <tr>\n",
       "        <td style=\"text-align: left\"><b>Ray version:</b></td>\n",
       "        <td style=\"text-align: left\"><b>2.23.0</b></td>\n",
       "    </tr>\n",
       "    <tr>\n",
       "    <td style=\"text-align: left\"><b>Dashboard:</b></td>\n",
       "    <td style=\"text-align: left\"><b><a href=\"http://127.0.0.1:8265\" target=\"_blank\">http://127.0.0.1:8265</a></b></td>\n",
       "</tr>\n",
       "\n",
       "</table>\n",
       "\n",
       "    </div>\n",
       "</div>\n"
      ],
      "text/plain": [
       "RayContext(dashboard_url='127.0.0.1:8265', python_version='3.10.8', ray_version='2.23.0', ray_commit='a0947ead5cd94b3d8ca5cdeb9422dccb12d03867')"
      ]
     },
     "execution_count": 35,
     "metadata": {},
     "output_type": "execute_result"
    },
    {
     "name": "stdout",
     "output_type": "stream",
     "text": [
      "\u001b[36m(train_and_score_model pid=8650)\u001b[0m n_estimators=8, mse=0.2983, took: 1.51 seconds \n"
     ]
    },
    {
     "name": "stderr",
     "output_type": "stream",
     "text": [
      "\u001b[33m(raylet)\u001b[0m [2024-05-29 14:08:47,265 E 8639 20079552] (raylet) file_system_monitor.cc:111: /tmp/ray/session_2024-05-29_14-08-34_958763_4746 is over 95% full, available space: 7207268352; capacity: 245107195904. Object creation will fail if spilling is required.\n"
     ]
    },
    {
     "name": "stdout",
     "output_type": "stream",
     "text": [
      "\u001b[36m(train_and_score_model pid=8646)\u001b[0m n_estimators=36, mse=0.2663, took: 6.50 seconds \u001b[32m [repeated 7x across cluster] (Ray deduplicates logs by default. Set RAY_DEDUP_LOGS=0 to disable log deduplication, or see https://docs.ray.io/en/master/ray-observability/user-guides/configure-logging.html#log-deduplication for more options.)\u001b[0m\n",
      "\u001b[36m(train_and_score_model pid=8644)\u001b[0m n_estimators=52, mse=0.2609, took: 9.14 seconds \u001b[32m [repeated 4x across cluster]\u001b[0m\n"
     ]
    },
    {
     "name": "stderr",
     "output_type": "stream",
     "text": [
      "\u001b[33m(raylet)\u001b[0m [2024-05-29 14:08:57,354 E 8639 20079552] (raylet) file_system_monitor.cc:111: /tmp/ray/session_2024-05-29_14-08-34_958763_4746 is over 95% full, available space: 7204950016; capacity: 245107195904. Object creation will fail if spilling is required.\n"
     ]
    },
    {
     "name": "stdout",
     "output_type": "stream",
     "text": [
      "\u001b[36m(train_and_score_model pid=8650)\u001b[0m n_estimators=72, mse=0.2617, took: 10.70 seconds \u001b[32m [repeated 5x across cluster]\u001b[0m\n",
      "\u001b[36m(train_and_score_model pid=8644)\u001b[0m n_estimators=84, mse=0.2601, took: 10.89 seconds \n"
     ]
    },
    {
     "name": "stderr",
     "output_type": "stream",
     "text": [
      "\u001b[33m(raylet)\u001b[0m [2024-05-29 14:09:07,450 E 8639 20079552] (raylet) file_system_monitor.cc:111: /tmp/ray/session_2024-05-29_14-08-34_958763_4746 is over 95% full, available space: 7204757504; capacity: 245107195904. Object creation will fail if spilling is required.\n",
      "\u001b[33m(raylet)\u001b[0m [2024-05-29 14:09:17,548 E 8639 20079552] (raylet) file_system_monitor.cc:111: /tmp/ray/session_2024-05-29_14-08-34_958763_4746 is over 95% full, available space: 7204671488; capacity: 245107195904. Object creation will fail if spilling is required.\n",
      "\u001b[33m(raylet)\u001b[0m [2024-05-29 14:09:27,645 E 8639 20079552] (raylet) file_system_monitor.cc:111: /tmp/ray/session_2024-05-29_14-08-34_958763_4746 is over 95% full, available space: 7204470784; capacity: 245107195904. Object creation will fail if spilling is required.\n",
      "\u001b[33m(raylet)\u001b[0m [2024-05-29 14:09:37,652 E 8639 20079552] (raylet) file_system_monitor.cc:111: /tmp/ray/session_2024-05-29_14-08-34_958763_4746 is over 95% full, available space: 7204282368; capacity: 245107195904. Object creation will fail if spilling is required.\n",
      "\u001b[33m(raylet)\u001b[0m [2024-05-29 14:09:47,653 E 8639 20079552] (raylet) file_system_monitor.cc:111: /tmp/ray/session_2024-05-29_14-08-34_958763_4746 is over 95% full, available space: 7204106240; capacity: 245107195904. Object creation will fail if spilling is required.\n",
      "\u001b[33m(raylet)\u001b[0m [2024-05-29 14:09:57,655 E 8639 20079552] (raylet) file_system_monitor.cc:111: /tmp/ray/session_2024-05-29_14-08-34_958763_4746 is over 95% full, available space: 7203983360; capacity: 245107195904. Object creation will fail if spilling is required.\n",
      "\u001b[33m(raylet)\u001b[0m [2024-05-29 14:10:07,657 E 8639 20079552] (raylet) file_system_monitor.cc:111: /tmp/ray/session_2024-05-29_14-08-34_958763_4746 is over 95% full, available space: 7203753984; capacity: 245107195904. Object creation will fail if spilling is required.\n",
      "\u001b[33m(raylet)\u001b[0m [2024-05-29 14:10:17,757 E 8639 20079552] (raylet) file_system_monitor.cc:111: /tmp/ray/session_2024-05-29_14-08-34_958763_4746 is over 95% full, available space: 7203524608; capacity: 245107195904. Object creation will fail if spilling is required.\n",
      "\u001b[33m(raylet)\u001b[0m [2024-05-29 14:10:27,763 E 8639 20079552] (raylet) file_system_monitor.cc:111: /tmp/ray/session_2024-05-29_14-08-34_958763_4746 is over 95% full, available space: 7203393536; capacity: 245107195904. Object creation will fail if spilling is required.\n",
      "\u001b[33m(raylet)\u001b[0m [2024-05-29 14:10:37,860 E 8639 20079552] (raylet) file_system_monitor.cc:111: /tmp/ray/session_2024-05-29_14-08-34_958763_4746 is over 95% full, available space: 7203180544; capacity: 245107195904. Object creation will fail if spilling is required.\n",
      "\u001b[33m(raylet)\u001b[0m [2024-05-29 14:10:47,959 E 8639 20079552] (raylet) file_system_monitor.cc:111: /tmp/ray/session_2024-05-29_14-08-34_958763_4746 is over 95% full, available space: 7202983936; capacity: 245107195904. Object creation will fail if spilling is required.\n",
      "\u001b[33m(raylet)\u001b[0m [2024-05-29 14:10:58,057 E 8639 20079552] (raylet) file_system_monitor.cc:111: /tmp/ray/session_2024-05-29_14-08-34_958763_4746 is over 95% full, available space: 7202816000; capacity: 245107195904. Object creation will fail if spilling is required.\n",
      "\u001b[33m(raylet)\u001b[0m [2024-05-29 14:11:08,157 E 8639 20079552] (raylet) file_system_monitor.cc:111: /tmp/ray/session_2024-05-29_14-08-34_958763_4746 is over 95% full, available space: 7202381824; capacity: 245107195904. Object creation will fail if spilling is required.\n",
      "\u001b[33m(raylet)\u001b[0m [2024-05-29 14:11:18,159 E 8639 20079552] (raylet) file_system_monitor.cc:111: /tmp/ray/session_2024-05-29_14-08-34_958763_4746 is over 95% full, available space: 7202144256; capacity: 245107195904. Object creation will fail if spilling is required.\n",
      "\u001b[33m(raylet)\u001b[0m [2024-05-29 14:11:28,161 E 8639 20079552] (raylet) file_system_monitor.cc:111: /tmp/ray/session_2024-05-29_14-08-34_958763_4746 is over 95% full, available space: 7201742848; capacity: 245107195904. Object creation will fail if spilling is required.\n",
      "\u001b[33m(raylet)\u001b[0m [2024-05-29 14:11:38,165 E 8639 20079552] (raylet) file_system_monitor.cc:111: /tmp/ray/session_2024-05-29_14-08-34_958763_4746 is over 95% full, available space: 7201587200; capacity: 245107195904. Object creation will fail if spilling is required.\n",
      "\u001b[33m(raylet)\u001b[0m [2024-05-29 14:11:48,258 E 8639 20079552] (raylet) file_system_monitor.cc:111: /tmp/ray/session_2024-05-29_14-08-34_958763_4746 is over 95% full, available space: 7201439744; capacity: 245107195904. Object creation will fail if spilling is required.\n",
      "\u001b[33m(raylet)\u001b[0m [2024-05-29 14:11:58,262 E 8639 20079552] (raylet) file_system_monitor.cc:111: /tmp/ray/session_2024-05-29_14-08-34_958763_4746 is over 95% full, available space: 7201337344; capacity: 245107195904. Object creation will fail if spilling is required.\n",
      "\u001b[33m(raylet)\u001b[0m [2024-05-29 14:12:08,262 E 8639 20079552] (raylet) file_system_monitor.cc:111: /tmp/ray/session_2024-05-29_14-08-34_958763_4746 is over 95% full, available space: 7200960512; capacity: 245107195904. Object creation will fail if spilling is required.\n",
      "\u001b[33m(raylet)\u001b[0m [2024-05-29 14:12:18,263 E 8639 20079552] (raylet) file_system_monitor.cc:111: /tmp/ray/session_2024-05-29_14-08-34_958763_4746 is over 95% full, available space: 7200776192; capacity: 245107195904. Object creation will fail if spilling is required.\n",
      "\u001b[33m(raylet)\u001b[0m [2024-05-29 14:12:28,359 E 8639 20079552] (raylet) file_system_monitor.cc:111: /tmp/ray/session_2024-05-29_14-08-34_958763_4746 is over 95% full, available space: 7200477184; capacity: 245107195904. Object creation will fail if spilling is required.\n",
      "\u001b[33m(raylet)\u001b[0m [2024-05-29 14:12:38,455 E 8639 20079552] (raylet) file_system_monitor.cc:111: /tmp/ray/session_2024-05-29_14-08-34_958763_4746 is over 95% full, available space: 7200227328; capacity: 245107195904. Object creation will fail if spilling is required.\n",
      "\u001b[33m(raylet)\u001b[0m [2024-05-29 14:15:36,123 E 8639 20079552] (raylet) file_system_monitor.cc:111: /tmp/ray/session_2024-05-29_14-08-34_958763_4746 is over 95% full, available space: 7197908992; capacity: 245107195904. Object creation will fail if spilling is required.\n",
      "\u001b[33m(raylet)\u001b[0m [2024-05-29 14:15:46,135 E 8639 20079552] (raylet) file_system_monitor.cc:111: /tmp/ray/session_2024-05-29_14-08-34_958763_4746 is over 95% full, available space: 7195983872; capacity: 245107195904. Object creation will fail if spilling is required.\n",
      "\u001b[33m(raylet)\u001b[0m [2024-05-29 14:15:56,137 E 8639 20079552] (raylet) file_system_monitor.cc:111: /tmp/ray/session_2024-05-29_14-08-34_958763_4746 is over 95% full, available space: 7195652096; capacity: 245107195904. Object creation will fail if spilling is required.\n",
      "\u001b[33m(raylet)\u001b[0m [2024-05-29 14:16:06,141 E 8639 20079552] (raylet) file_system_monitor.cc:111: /tmp/ray/session_2024-05-29_14-08-34_958763_4746 is over 95% full, available space: 7194902528; capacity: 245107195904. Object creation will fail if spilling is required.\n",
      "\u001b[33m(raylet)\u001b[0m [2024-05-29 14:16:16,235 E 8639 20079552] (raylet) file_system_monitor.cc:111: /tmp/ray/session_2024-05-29_14-08-34_958763_4746 is over 95% full, available space: 7192711168; capacity: 245107195904. Object creation will fail if spilling is required.\n",
      "\u001b[33m(raylet)\u001b[0m [2024-05-29 14:16:26,240 E 8639 20079552] (raylet) file_system_monitor.cc:111: /tmp/ray/session_2024-05-29_14-08-34_958763_4746 is over 95% full, available space: 7192420352; capacity: 245107195904. Object creation will fail if spilling is required.\n",
      "\u001b[33m(raylet)\u001b[0m [2024-05-29 14:16:36,244 E 8639 20079552] (raylet) file_system_monitor.cc:111: /tmp/ray/session_2024-05-29_14-08-34_958763_4746 is over 95% full, available space: 7192092672; capacity: 245107195904. Object creation will fail if spilling is required.\n",
      "\u001b[33m(raylet)\u001b[0m [2024-05-29 14:16:46,246 E 8639 20079552] (raylet) file_system_monitor.cc:111: /tmp/ray/session_2024-05-29_14-08-34_958763_4746 is over 95% full, available space: 7191982080; capacity: 245107195904. Object creation will fail if spilling is required.\n",
      "\u001b[33m(raylet)\u001b[0m [2024-05-29 14:16:56,252 E 8639 20079552] (raylet) file_system_monitor.cc:111: /tmp/ray/session_2024-05-29_14-08-34_958763_4746 is over 95% full, available space: 7191642112; capacity: 245107195904. Object creation will fail if spilling is required.\n",
      "\u001b[33m(raylet)\u001b[0m [2024-05-29 14:17:06,258 E 8639 20079552] (raylet) file_system_monitor.cc:111: /tmp/ray/session_2024-05-29_14-08-34_958763_4746 is over 95% full, available space: 7191506944; capacity: 245107195904. Object creation will fail if spilling is required.\n",
      "\u001b[33m(raylet)\u001b[0m [2024-05-29 14:17:16,357 E 8639 20079552] (raylet) file_system_monitor.cc:111: /tmp/ray/session_2024-05-29_14-08-34_958763_4746 is over 95% full, available space: 7191257088; capacity: 245107195904. Object creation will fail if spilling is required.\n",
      "\u001b[33m(raylet)\u001b[0m [2024-05-29 14:17:26,361 E 8639 20079552] (raylet) file_system_monitor.cc:111: /tmp/ray/session_2024-05-29_14-08-34_958763_4746 is over 95% full, available space: 7185678336; capacity: 245107195904. Object creation will fail if spilling is required.\n",
      "\u001b[33m(raylet)\u001b[0m [2024-05-29 14:17:36,457 E 8639 20079552] (raylet) file_system_monitor.cc:111: /tmp/ray/session_2024-05-29_14-08-34_958763_4746 is over 95% full, available space: 7192305664; capacity: 245107195904. Object creation will fail if spilling is required.\n",
      "\u001b[33m(raylet)\u001b[0m [2024-05-29 14:17:46,556 E 8639 20079552] (raylet) file_system_monitor.cc:111: /tmp/ray/session_2024-05-29_14-08-34_958763_4746 is over 95% full, available space: 7191277568; capacity: 245107195904. Object creation will fail if spilling is required.\n",
      "\u001b[33m(raylet)\u001b[0m [2024-05-29 14:17:56,561 E 8639 20079552] (raylet) file_system_monitor.cc:111: /tmp/ray/session_2024-05-29_14-08-34_958763_4746 is over 95% full, available space: 7189753856; capacity: 245107195904. Object creation will fail if spilling is required.\n",
      "\u001b[33m(raylet)\u001b[0m [2024-05-29 14:18:06,660 E 8639 20079552] (raylet) file_system_monitor.cc:111: /tmp/ray/session_2024-05-29_14-08-34_958763_4746 is over 95% full, available space: 7191674880; capacity: 245107195904. Object creation will fail if spilling is required.\n",
      "\u001b[33m(raylet)\u001b[0m [2024-05-29 14:18:16,760 E 8639 20079552] (raylet) file_system_monitor.cc:111: /tmp/ray/session_2024-05-29_14-08-34_958763_4746 is over 95% full, available space: 7190577152; capacity: 245107195904. Object creation will fail if spilling is required.\n",
      "\u001b[33m(raylet)\u001b[0m [2024-05-29 14:18:26,765 E 8639 20079552] (raylet) file_system_monitor.cc:111: /tmp/ray/session_2024-05-29_14-08-34_958763_4746 is over 95% full, available space: 7188512768; capacity: 245107195904. Object creation will fail if spilling is required.\n",
      "\u001b[33m(raylet)\u001b[0m [2024-05-29 14:18:36,767 E 8639 20079552] (raylet) file_system_monitor.cc:111: /tmp/ray/session_2024-05-29_14-08-34_958763_4746 is over 95% full, available space: 7188160512; capacity: 245107195904. Object creation will fail if spilling is required.\n",
      "\u001b[33m(raylet)\u001b[0m [2024-05-29 14:18:46,777 E 8639 20079552] (raylet) file_system_monitor.cc:111: /tmp/ray/session_2024-05-29_14-08-34_958763_4746 is over 95% full, available space: 7188090880; capacity: 245107195904. Object creation will fail if spilling is required.\n",
      "\u001b[33m(raylet)\u001b[0m [2024-05-29 14:18:56,778 E 8639 20079552] (raylet) file_system_monitor.cc:111: /tmp/ray/session_2024-05-29_14-08-34_958763_4746 is over 95% full, available space: 7187902464; capacity: 245107195904. Object creation will fail if spilling is required.\n",
      "\u001b[33m(raylet)\u001b[0m [2024-05-29 14:19:06,787 E 8639 20079552] (raylet) file_system_monitor.cc:111: /tmp/ray/session_2024-05-29_14-08-34_958763_4746 is over 95% full, available space: 7187824640; capacity: 245107195904. Object creation will fail if spilling is required.\n",
      "\u001b[33m(raylet)\u001b[0m [2024-05-29 14:19:16,792 E 8639 20079552] (raylet) file_system_monitor.cc:111: /tmp/ray/session_2024-05-29_14-08-34_958763_4746 is over 95% full, available space: 7184969728; capacity: 245107195904. Object creation will fail if spilling is required.\n",
      "\u001b[33m(raylet)\u001b[0m [2024-05-29 14:19:26,793 E 8639 20079552] (raylet) file_system_monitor.cc:111: /tmp/ray/session_2024-05-29_14-08-34_958763_4746 is over 95% full, available space: 7185674240; capacity: 245107195904. Object creation will fail if spilling is required.\n",
      "\u001b[33m(raylet)\u001b[0m [2024-05-29 14:19:36,890 E 8639 20079552] (raylet) file_system_monitor.cc:111: /tmp/ray/session_2024-05-29_14-08-34_958763_4746 is over 95% full, available space: 7184576512; capacity: 245107195904. Object creation will fail if spilling is required.\n",
      "\u001b[33m(raylet)\u001b[0m [2024-05-29 14:19:46,895 E 8639 20079552] (raylet) file_system_monitor.cc:111: /tmp/ray/session_2024-05-29_14-08-34_958763_4746 is over 95% full, available space: 7183458304; capacity: 245107195904. Object creation will fail if spilling is required.\n",
      "\u001b[33m(raylet)\u001b[0m [2024-05-29 14:19:56,896 E 8639 20079552] (raylet) file_system_monitor.cc:111: /tmp/ray/session_2024-05-29_14-08-34_958763_4746 is over 95% full, available space: 7183593472; capacity: 245107195904. Object creation will fail if spilling is required.\n",
      "\u001b[33m(raylet)\u001b[0m [2024-05-29 14:20:06,896 E 8639 20079552] (raylet) file_system_monitor.cc:111: /tmp/ray/session_2024-05-29_14-08-34_958763_4746 is over 95% full, available space: 7183269888; capacity: 245107195904. Object creation will fail if spilling is required.\n",
      "\u001b[33m(raylet)\u001b[0m [2024-05-29 14:20:16,993 E 8639 20079552] (raylet) file_system_monitor.cc:111: /tmp/ray/session_2024-05-29_14-08-34_958763_4746 is over 95% full, available space: 7183097856; capacity: 245107195904. Object creation will fail if spilling is required.\n",
      "\u001b[33m(raylet)\u001b[0m [2024-05-29 14:20:26,997 E 8639 20079552] (raylet) file_system_monitor.cc:111: /tmp/ray/session_2024-05-29_14-08-34_958763_4746 is over 95% full, available space: 7185453056; capacity: 245107195904. Object creation will fail if spilling is required.\n",
      "\u001b[33m(raylet)\u001b[0m [2024-05-29 14:20:37,002 E 8639 20079552] (raylet) file_system_monitor.cc:111: /tmp/ray/session_2024-05-29_14-08-34_958763_4746 is over 95% full, available space: 7185281024; capacity: 245107195904. Object creation will fail if spilling is required.\n",
      "\u001b[33m(raylet)\u001b[0m [2024-05-29 14:20:47,103 E 8639 20079552] (raylet) file_system_monitor.cc:111: /tmp/ray/session_2024-05-29_14-08-34_958763_4746 is over 95% full, available space: 7185047552; capacity: 245107195904. Object creation will fail if spilling is required.\n",
      "\u001b[33m(raylet)\u001b[0m [2024-05-29 14:20:57,106 E 8639 20079552] (raylet) file_system_monitor.cc:111: /tmp/ray/session_2024-05-29_14-08-34_958763_4746 is over 95% full, available space: 7184850944; capacity: 245107195904. Object creation will fail if spilling is required.\n",
      "\u001b[33m(raylet)\u001b[0m [2024-05-29 14:21:07,205 E 8639 20079552] (raylet) file_system_monitor.cc:111: /tmp/ray/session_2024-05-29_14-08-34_958763_4746 is over 95% full, available space: 7184674816; capacity: 245107195904. Object creation will fail if spilling is required.\n",
      "\u001b[33m(raylet)\u001b[0m [2024-05-29 14:21:17,305 E 8639 20079552] (raylet) file_system_monitor.cc:111: /tmp/ray/session_2024-05-29_14-08-34_958763_4746 is over 95% full, available space: 7184584704; capacity: 245107195904. Object creation will fail if spilling is required.\n",
      "\u001b[33m(raylet)\u001b[0m [2024-05-29 14:21:27,405 E 8639 20079552] (raylet) file_system_monitor.cc:111: /tmp/ray/session_2024-05-29_14-08-34_958763_4746 is over 95% full, available space: 7184363520; capacity: 245107195904. Object creation will fail if spilling is required.\n",
      "\u001b[33m(raylet)\u001b[0m [2024-05-29 14:21:37,496 E 8639 20079552] (raylet) file_system_monitor.cc:111: /tmp/ray/session_2024-05-29_14-08-34_958763_4746 is over 95% full, available space: 7184019456; capacity: 245107195904. Object creation will fail if spilling is required.\n",
      "\u001b[33m(raylet)\u001b[0m [2024-05-29 14:21:47,596 E 8639 20079552] (raylet) file_system_monitor.cc:111: /tmp/ray/session_2024-05-29_14-08-34_958763_4746 is over 95% full, available space: 7183613952; capacity: 245107195904. Object creation will fail if spilling is required.\n",
      "\u001b[33m(raylet)\u001b[0m [2024-05-29 14:21:57,599 E 8639 20079552] (raylet) file_system_monitor.cc:111: /tmp/ray/session_2024-05-29_14-08-34_958763_4746 is over 95% full, available space: 7183425536; capacity: 245107195904. Object creation will fail if spilling is required.\n",
      "\u001b[33m(raylet)\u001b[0m [2024-05-29 14:22:07,697 E 8639 20079552] (raylet) file_system_monitor.cc:111: /tmp/ray/session_2024-05-29_14-08-34_958763_4746 is over 95% full, available space: 7183134720; capacity: 245107195904. Object creation will fail if spilling is required.\n",
      "\u001b[33m(raylet)\u001b[0m [2024-05-29 14:22:17,703 E 8639 20079552] (raylet) file_system_monitor.cc:111: /tmp/ray/session_2024-05-29_14-08-34_958763_4746 is over 95% full, available space: 7182856192; capacity: 245107195904. Object creation will fail if spilling is required.\n",
      "\u001b[33m(raylet)\u001b[0m [2024-05-29 14:22:27,714 E 8639 20079552] (raylet) file_system_monitor.cc:111: /tmp/ray/session_2024-05-29_14-08-34_958763_4746 is over 95% full, available space: 7182737408; capacity: 245107195904. Object creation will fail if spilling is required.\n",
      "\u001b[33m(raylet)\u001b[0m [2024-05-29 14:22:37,811 E 8639 20079552] (raylet) file_system_monitor.cc:111: /tmp/ray/session_2024-05-29_14-08-34_958763_4746 is over 95% full, available space: 7177318400; capacity: 245107195904. Object creation will fail if spilling is required.\n",
      "\u001b[33m(raylet)\u001b[0m [2024-05-29 14:22:47,814 E 8639 20079552] (raylet) file_system_monitor.cc:111: /tmp/ray/session_2024-05-29_14-08-34_958763_4746 is over 95% full, available space: 7176445952; capacity: 245107195904. Object creation will fail if spilling is required.\n",
      "\u001b[33m(raylet)\u001b[0m [2024-05-29 14:22:57,820 E 8639 20079552] (raylet) file_system_monitor.cc:111: /tmp/ray/session_2024-05-29_14-08-34_958763_4746 is over 95% full, available space: 7176585216; capacity: 245107195904. Object creation will fail if spilling is required.\n",
      "\u001b[33m(raylet)\u001b[0m [2024-05-29 14:23:07,827 E 8639 20079552] (raylet) file_system_monitor.cc:111: /tmp/ray/session_2024-05-29_14-08-34_958763_4746 is over 95% full, available space: 7176495104; capacity: 245107195904. Object creation will fail if spilling is required.\n",
      "\u001b[33m(raylet)\u001b[0m [2024-05-29 14:23:17,827 E 8639 20079552] (raylet) file_system_monitor.cc:111: /tmp/ray/session_2024-05-29_14-08-34_958763_4746 is over 95% full, available space: 7176368128; capacity: 245107195904. Object creation will fail if spilling is required.\n",
      "\u001b[33m(raylet)\u001b[0m [2024-05-29 14:23:27,830 E 8639 20079552] (raylet) file_system_monitor.cc:111: /tmp/ray/session_2024-05-29_14-08-34_958763_4746 is over 95% full, available space: 7176232960; capacity: 245107195904. Object creation will fail if spilling is required.\n",
      "\u001b[33m(raylet)\u001b[0m [2024-05-29 14:23:37,923 E 8639 20079552] (raylet) file_system_monitor.cc:111: /tmp/ray/session_2024-05-29_14-08-34_958763_4746 is over 95% full, available space: 7180025856; capacity: 245107195904. Object creation will fail if spilling is required.\n",
      "\u001b[33m(raylet)\u001b[0m [2024-05-29 14:23:48,020 E 8639 20079552] (raylet) file_system_monitor.cc:111: /tmp/ray/session_2024-05-29_14-08-34_958763_4746 is over 95% full, available space: 7179788288; capacity: 245107195904. Object creation will fail if spilling is required.\n",
      "\u001b[33m(raylet)\u001b[0m [2024-05-29 14:23:58,023 E 8639 20079552] (raylet) file_system_monitor.cc:111: /tmp/ray/session_2024-05-29_14-08-34_958763_4746 is over 95% full, available space: 7179669504; capacity: 245107195904. Object creation will fail if spilling is required.\n",
      "\u001b[33m(raylet)\u001b[0m [2024-05-29 14:24:08,122 E 8639 20079552] (raylet) file_system_monitor.cc:111: /tmp/ray/session_2024-05-29_14-08-34_958763_4746 is over 95% full, available space: 7180800000; capacity: 245107195904. Object creation will fail if spilling is required.\n",
      "\u001b[33m(raylet)\u001b[0m [2024-05-29 14:24:18,129 E 8639 20079552] (raylet) file_system_monitor.cc:111: /tmp/ray/session_2024-05-29_14-08-34_958763_4746 is over 95% full, available space: 7177433088; capacity: 245107195904. Object creation will fail if spilling is required.\n",
      "\u001b[33m(raylet)\u001b[0m [2024-05-29 14:24:28,134 E 8639 20079552] (raylet) file_system_monitor.cc:111: /tmp/ray/session_2024-05-29_14-08-34_958763_4746 is over 95% full, available space: 7177080832; capacity: 245107195904. Object creation will fail if spilling is required.\n",
      "\u001b[33m(raylet)\u001b[0m [2024-05-29 14:24:38,226 E 8639 20079552] (raylet) file_system_monitor.cc:111: /tmp/ray/session_2024-05-29_14-08-34_958763_4746 is over 95% full, available space: 7164268544; capacity: 245107195904. Object creation will fail if spilling is required.\n",
      "\u001b[33m(raylet)\u001b[0m [2024-05-29 14:24:48,226 E 8639 20079552] (raylet) file_system_monitor.cc:111: /tmp/ray/session_2024-05-29_14-08-34_958763_4746 is over 95% full, available space: 7173808128; capacity: 245107195904. Object creation will fail if spilling is required.\n",
      "\u001b[33m(raylet)\u001b[0m [2024-05-29 14:24:58,225 E 8639 20079552] (raylet) file_system_monitor.cc:111: /tmp/ray/session_2024-05-29_14-08-34_958763_4746 is over 95% full, available space: 7176384512; capacity: 245107195904. Object creation will fail if spilling is required.\n",
      "\u001b[33m(raylet)\u001b[0m [2024-05-29 14:25:08,323 E 8639 20079552] (raylet) file_system_monitor.cc:111: /tmp/ray/session_2024-05-29_14-08-34_958763_4746 is over 95% full, available space: 7175278592; capacity: 245107195904. Object creation will fail if spilling is required.\n",
      "\u001b[33m(raylet)\u001b[0m [2024-05-29 14:25:18,325 E 8639 20079552] (raylet) file_system_monitor.cc:111: /tmp/ray/session_2024-05-29_14-08-34_958763_4746 is over 95% full, available space: 7173607424; capacity: 245107195904. Object creation will fail if spilling is required.\n",
      "\u001b[33m(raylet)\u001b[0m [2024-05-29 14:25:28,339 E 8639 20079552] (raylet) file_system_monitor.cc:111: /tmp/ray/session_2024-05-29_14-08-34_958763_4746 is over 95% full, available space: 7186333696; capacity: 245107195904. Object creation will fail if spilling is required.\n",
      "\u001b[33m(raylet)\u001b[0m [2024-05-29 14:25:38,432 E 8639 20079552] (raylet) file_system_monitor.cc:111: /tmp/ray/session_2024-05-29_14-08-34_958763_4746 is over 95% full, available space: 7183773696; capacity: 245107195904. Object creation will fail if spilling is required.\n",
      "\u001b[33m(raylet)\u001b[0m [2024-05-29 14:25:48,526 E 8639 20079552] (raylet) file_system_monitor.cc:111: /tmp/ray/session_2024-05-29_14-08-34_958763_4746 is over 95% full, available space: 7180402688; capacity: 245107195904. Object creation will fail if spilling is required.\n",
      "\u001b[33m(raylet)\u001b[0m [2024-05-29 14:25:58,618 E 8639 20079552] (raylet) file_system_monitor.cc:111: /tmp/ray/session_2024-05-29_14-08-34_958763_4746 is over 95% full, available space: 7174586368; capacity: 245107195904. Object creation will fail if spilling is required.\n",
      "\u001b[33m(raylet)\u001b[0m [2024-05-29 14:26:08,619 E 8639 20079552] (raylet) file_system_monitor.cc:111: /tmp/ray/session_2024-05-29_14-08-34_958763_4746 is over 95% full, available space: 7178444800; capacity: 245107195904. Object creation will fail if spilling is required.\n",
      "\u001b[33m(raylet)\u001b[0m [2024-05-29 14:26:18,716 E 8639 20079552] (raylet) file_system_monitor.cc:111: /tmp/ray/session_2024-05-29_14-08-34_958763_4746 is over 95% full, available space: 7178203136; capacity: 245107195904. Object creation will fail if spilling is required.\n",
      "\u001b[33m(raylet)\u001b[0m [2024-05-29 14:26:28,816 E 8639 20079552] (raylet) file_system_monitor.cc:111: /tmp/ray/session_2024-05-29_14-08-34_958763_4746 is over 95% full, available space: 7177179136; capacity: 245107195904. Object creation will fail if spilling is required.\n",
      "\u001b[33m(raylet)\u001b[0m [2024-05-29 14:26:38,816 E 8639 20079552] (raylet) file_system_monitor.cc:111: /tmp/ray/session_2024-05-29_14-08-34_958763_4746 is over 95% full, available space: 7176691712; capacity: 245107195904. Object creation will fail if spilling is required.\n",
      "\u001b[33m(raylet)\u001b[0m [2024-05-29 14:26:48,820 E 8639 20079552] (raylet) file_system_monitor.cc:111: /tmp/ray/session_2024-05-29_14-08-34_958763_4746 is over 95% full, available space: 7172919296; capacity: 245107195904. Object creation will fail if spilling is required.\n",
      "\u001b[33m(raylet)\u001b[0m [2024-05-29 14:26:58,822 E 8639 20079552] (raylet) file_system_monitor.cc:111: /tmp/ray/session_2024-05-29_14-08-34_958763_4746 is over 95% full, available space: 7172608000; capacity: 245107195904. Object creation will fail if spilling is required.\n",
      "\u001b[33m(raylet)\u001b[0m [2024-05-29 14:27:08,822 E 8639 20079552] (raylet) file_system_monitor.cc:111: /tmp/ray/session_2024-05-29_14-08-34_958763_4746 is over 95% full, available space: 7171100672; capacity: 245107195904. Object creation will fail if spilling is required.\n",
      "\u001b[33m(raylet)\u001b[0m [2024-05-29 14:27:18,826 E 8639 20079552] (raylet) file_system_monitor.cc:111: /tmp/ray/session_2024-05-29_14-08-34_958763_4746 is over 95% full, available space: 7170682880; capacity: 245107195904. Object creation will fail if spilling is required.\n",
      "\u001b[33m(raylet)\u001b[0m [2024-05-29 14:27:28,828 E 8639 20079552] (raylet) file_system_monitor.cc:111: /tmp/ray/session_2024-05-29_14-08-34_958763_4746 is over 95% full, available space: 7170387968; capacity: 245107195904. Object creation will fail if spilling is required.\n",
      "\u001b[33m(raylet)\u001b[0m [2024-05-29 14:27:38,828 E 8639 20079552] (raylet) file_system_monitor.cc:111: /tmp/ray/session_2024-05-29_14-08-34_958763_4746 is over 95% full, available space: 7170093056; capacity: 245107195904. Object creation will fail if spilling is required.\n",
      "\u001b[33m(raylet)\u001b[0m [2024-05-29 14:27:48,931 E 8639 20079552] (raylet) file_system_monitor.cc:111: /tmp/ray/session_2024-05-29_14-08-34_958763_4746 is over 95% full, available space: 7169691648; capacity: 245107195904. Object creation will fail if spilling is required.\n",
      "\u001b[33m(raylet)\u001b[0m [2024-05-29 14:27:59,030 E 8639 20079552] (raylet) file_system_monitor.cc:111: /tmp/ray/session_2024-05-29_14-08-34_958763_4746 is over 95% full, available space: 7169433600; capacity: 245107195904. Object creation will fail if spilling is required.\n",
      "\u001b[33m(raylet)\u001b[0m [2024-05-29 14:28:09,030 E 8639 20079552] (raylet) file_system_monitor.cc:111: /tmp/ray/session_2024-05-29_14-08-34_958763_4746 is over 95% full, available space: 7169044480; capacity: 245107195904. Object creation will fail if spilling is required.\n"
     ]
    }
   ],
   "source": [
    "import ray\n",
    "\n",
    "if ray.is_initialized:\n",
    "    ray.shutdown()\n",
    "ray.init()"
   ]
  },
  {
   "cell_type": "markdown",
   "id": "a7dab1a4-1e37-439f-b155-c0eee11875c9",
   "metadata": {},
   "source": [
    "In a distributed system, object references are pointers to objects in memory. Object references can be used to access objects taht are stored on different machines, allowing them to communicate and share data"
   ]
  },
  {
   "cell_type": "code",
   "execution_count": 36,
   "id": "efbc625a-dd20-4599-8882-f08e20646e2d",
   "metadata": {},
   "outputs": [],
   "source": [
    "X_train_ref = ray.put(X_train)\n",
    "X_test_ref = ray.put(X_test)\n",
    "y_train_ref = ray.put(y_train)\n",
    "y_test_ref = ray.put(y_test)"
   ]
  },
  {
   "cell_type": "markdown",
   "id": "04f72697-5e79-49ff-b07a-db44c7d773e7",
   "metadata": {},
   "source": [
    "By placing the training and testing data into Ray's object store, these objects are now available to all remote actors in the cluster"
   ]
  },
  {
   "cell_type": "markdown",
   "id": "b4b20897-727b-4af5-91c3-045405e96796",
   "metadata": {},
   "source": [
    "#### Implement function to train and score model"
   ]
  },
  {
   "cell_type": "code",
   "execution_count": 37,
   "id": "f4a64765-a51b-4648-b68f-b72a8027f628",
   "metadata": {},
   "outputs": [],
   "source": [
    "@ray.remote\n",
    "def train_and_score_model(\n",
    "    train_set_ref: pd.DataFrame,\n",
    "    test_set_ref: pd.DataFrame,\n",
    "    train_labels_ref: pd.Series,\n",
    "    test_labels_ref: pd.Series,\n",
    "    n_estimators: int,\n",
    ") -> tuple[int, float]:\n",
    "    start_time = time.time()\n",
    "    model = RandomForestRegressor(n_estimators=n_estimators, random_state=201)\n",
    "    model.fit(train_set_ref, train_labels_ref)\n",
    "    y_pred = model.predict(test_set_ref)\n",
    "    score = mean_squared_error(test_labels_ref, y_pred)\n",
    "\n",
    "    time_delta = time.time() - start_time\n",
    "    print(f\"n_estimators={n_estimators}, mse={score:.4f}, took: {time_delta:.2f} seconds \")\n",
    "\n",
    "    return n_estimators, score"
   ]
  },
  {
   "cell_type": "markdown",
   "id": "d1a56436-4106-47dd-89e5-7b7cf8881884",
   "metadata": {},
   "source": [
    "Adding the `@ray.remote` decorator to specifies the function will be executed in a distibuted manner"
   ]
  },
  {
   "cell_type": "markdown",
   "id": "1ab25adf-f670-4362-8d4f-9c3bb885089d",
   "metadata": {},
   "source": [
    "#### Implement function that runs **parallel** model training"
   ]
  },
  {
   "cell_type": "code",
   "execution_count": 38,
   "id": "87608d05-88cd-4f6d-8422-2a4e206fe4c7",
   "metadata": {},
   "outputs": [],
   "source": [
    "def run_parallel(n_models: int) -> list[tuple[int, float]]:\n",
    "    results_ref = [\n",
    "        train_and_score_model.remote(\n",
    "            train_set_ref=X_train_ref,\n",
    "            test_set_ref=X_test_ref,\n",
    "            train_labels_ref=y_train_ref,\n",
    "            test_labels_ref=y_test_ref,\n",
    "            n_estimators=8 + 4* j,\n",
    "        )\n",
    "        for j in range(n_models)\n",
    "    ]\n",
    "    return ray.get(results_ref)"
   ]
  },
  {
   "cell_type": "markdown",
   "id": "1b758209-9576-4662-b280-ba8191dc85fa",
   "metadata": {},
   "source": [
    "#### Run parallel model training"
   ]
  },
  {
   "cell_type": "code",
   "execution_count": 39,
   "id": "1ceea8cb-94d4-48f6-aa09-f481cf24df23",
   "metadata": {},
   "outputs": [
    {
     "name": "stdout",
     "output_type": "stream",
     "text": [
      "CPU times: user 109 ms, sys: 79.2 ms, total: 189 ms\n",
      "Wall time: 26.3 s\n"
     ]
    }
   ],
   "source": [
    "%%time\n",
    "\n",
    "mse_scores = run_parallel(n_models=NUM_MODELS)"
   ]
  },
  {
   "cell_type": "markdown",
   "id": "e286f899-b197-4741-94a4-a2acac96f714",
   "metadata": {},
   "source": [
    "The result is **6x performance gain**:\n",
    "+ Parallel took 26 seconds\n",
    "+ Sequential took over 1 minute"
   ]
  },
  {
   "cell_type": "markdown",
   "id": "3a09055a-5a4d-46d3-b340-8d49281f7d30",
   "metadata": {},
   "source": [
    "#### Analyze Results"
   ]
  },
  {
   "cell_type": "code",
   "execution_count": 42,
   "id": "4b1e69d7-b51f-44d1-a1fe-6564fa886901",
   "metadata": {},
   "outputs": [
    {
     "name": "stdout",
     "output_type": "stream",
     "text": [
      "Best Model: mse=0.2601, n_estimators=84\n"
     ]
    }
   ],
   "source": [
    "best = min(mse_scores, key=itemgetter(1))\n",
    "print(f\"Best Model: mse={best[1]:.4f}, n_estimators={best[0]}\")"
   ]
  },
  {
   "cell_type": "markdown",
   "id": "ce31d0b6-4d36-40e5-8e6d-91b937b94c9a",
   "metadata": {},
   "source": [
    "#### Shutdown Ray runtime"
   ]
  },
  {
   "cell_type": "code",
   "execution_count": 43,
   "id": "e566454e-b12d-4c61-bde3-4aaec12b575c",
   "metadata": {},
   "outputs": [],
   "source": [
    "ray.shutdown()"
   ]
  },
  {
   "cell_type": "code",
   "execution_count": null,
   "id": "a4257a43-2278-4ef8-b249-0c9f06a131d7",
   "metadata": {},
   "outputs": [],
   "source": []
  }
 ],
 "metadata": {
  "kernelspec": {
   "display_name": "Python 3 (ipykernel)",
   "language": "python",
   "name": "python3"
  },
  "language_info": {
   "codemirror_mode": {
    "name": "ipython",
    "version": 3
   },
   "file_extension": ".py",
   "mimetype": "text/x-python",
   "name": "python",
   "nbconvert_exporter": "python",
   "pygments_lexer": "ipython3",
   "version": "3.10.8"
  }
 },
 "nbformat": 4,
 "nbformat_minor": 5
}
