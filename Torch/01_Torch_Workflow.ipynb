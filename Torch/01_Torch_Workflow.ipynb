{
 "cells": [
  {
   "cell_type": "code",
   "execution_count": 24,
   "id": "dd70518d-b9c4-49c4-b05c-76f885ca23c6",
   "metadata": {},
   "outputs": [
    {
     "data": {
      "text/plain": [
       "'2.2.2'"
      ]
     },
     "execution_count": 24,
     "metadata": {},
     "output_type": "execute_result"
    }
   ],
   "source": [
    "import torch\n",
    "from torch import nn\n",
    "import matplotlib.pyplot as plt\n",
    "import numpy as np\n",
    "\n",
    "# check Torch version\n",
    "torch.__version__"
   ]
  },
  {
   "cell_type": "markdown",
   "id": "49748eaa-6c88-433c-a457-548fad20ee07",
   "metadata": {},
   "source": [
    "#### Create device-agnostic code\n",
    "\n",
    "+ If have access to a GPU, code to use it\n",
    "+ If no GPU, to default to CPU"
   ]
  },
  {
   "cell_type": "code",
   "execution_count": 3,
   "id": "be3447cb-09a3-4b10-8056-2d7cf6520058",
   "metadata": {},
   "outputs": [
    {
     "name": "stdout",
     "output_type": "stream",
     "text": [
      "Using device: cpu\n"
     ]
    }
   ],
   "source": [
    "device = 'cuda' if torch.cuda.is_available() else 'cpu'\n",
    "print(f\"Using device: {device}\")"
   ]
  },
  {
   "cell_type": "markdown",
   "id": "46ff5e7a-93e5-413c-b22c-a4284943056c",
   "metadata": {},
   "source": [
    "#### Data"
   ]
  },
  {
   "cell_type": "code",
   "execution_count": 5,
   "id": "0f958ee9-85a0-4322-b7aa-08bf2a14e35e",
   "metadata": {},
   "outputs": [
    {
     "data": {
      "text/plain": [
       "(tensor([[0.0000],\n",
       "         [0.0100],\n",
       "         [0.0200],\n",
       "         [0.0300],\n",
       "         [0.0400],\n",
       "         [0.0500],\n",
       "         [0.0600],\n",
       "         [0.0700],\n",
       "         [0.0800],\n",
       "         [0.0900]]),\n",
       " tensor([[0.3000],\n",
       "         [0.3070],\n",
       "         [0.3140],\n",
       "         [0.3210],\n",
       "         [0.3280],\n",
       "         [0.3350],\n",
       "         [0.3420],\n",
       "         [0.3490],\n",
       "         [0.3560],\n",
       "         [0.3630]]))"
      ]
     },
     "execution_count": 5,
     "metadata": {},
     "output_type": "execute_result"
    }
   ],
   "source": [
    "## Create *known* parameters\n",
    "\n",
    "weight = 0.7\n",
    "bias=0.3\n",
    "\n",
    "start = 0 \n",
    "end = 1\n",
    "step = 0.01\n",
    "X = torch.arange(start, end, step).unsqueeze(dim=1)\n",
    "y = weight * X + bias\n",
    "\n",
    "X[:10], y[:10]"
   ]
  },
  {
   "cell_type": "code",
   "execution_count": 6,
   "id": "ae84b5e2-4112-43e4-94f6-ad3ab2f3f3c1",
   "metadata": {},
   "outputs": [
    {
     "data": {
      "text/plain": [
       "(100, 100)"
      ]
     },
     "execution_count": 6,
     "metadata": {},
     "output_type": "execute_result"
    }
   ],
   "source": [
    "len(X), len(y)"
   ]
  },
  {
   "cell_type": "markdown",
   "id": "56c94185-491c-48a8-b5c4-4aed7314c43e",
   "metadata": {},
   "source": [
    "#### Split Data into Training and Test Sets"
   ]
  },
  {
   "cell_type": "code",
   "execution_count": 7,
   "id": "08ae7863-2c30-41a7-afd7-7e1028f31d74",
   "metadata": {},
   "outputs": [
    {
     "data": {
      "text/plain": [
       "(80, 80, 20, 20)"
      ]
     },
     "execution_count": 7,
     "metadata": {},
     "output_type": "execute_result"
    }
   ],
   "source": [
    "train_split = int(0.8*len(X))\n",
    "X_train, y_train = X[:train_split], y[:train_split]\n",
    "X_test, y_test = X[train_split:], y[train_split:]\n",
    "len(X_train), len(y_train), len(X_test), len(y_test)"
   ]
  },
  {
   "cell_type": "code",
   "execution_count": 8,
   "id": "559b55c5-9e39-4200-9f85-66071c97d1a8",
   "metadata": {},
   "outputs": [],
   "source": [
    "def plot_predictions(train_data = X_train, train_labels = y_train,\n",
    "                    test_data = X_test, test_labels=y_test, predictions=None):\n",
    "    \"\"\"Plots training data, test data; and compares predictions\"\"\"\n",
    "    plt.figure(figsize=(10,6))\n",
    "\n",
    "    # Plot training data in blue\n",
    "    plt.scatter(train_data, train_labels, c='b', s=4, label='Training Data')\n",
    "\n",
    "    # Plot testing data in green\n",
    "    plt.scatter(test_data, test_labels, c='g', s=4, label='Training Data')\n",
    "\n",
    "    if predictions is not None:\n",
    "        plt.scatter(test_data, predictions, c='r', s=4,label='Predictions')\n",
    "\n",
    "    plt.legend(prop={'size':14})"
   ]
  },
  {
   "cell_type": "code",
   "execution_count": 9,
   "id": "9dfcf06a-2887-4fa2-9dca-19a7c86f071b",
   "metadata": {},
   "outputs": [
    {
     "data": {
      "image/png": "[encoded data removed]",
      "text/plain": [
       "<Figure size 1000x600 with 1 Axes>"
      ]
     },
     "metadata": {},
     "output_type": "display_data"
    }
   ],
   "source": [
    "plot_predictions()"
   ]
  },
  {
   "cell_type": "markdown",
   "id": "564b2423-9b74-4053-b542-0b3038573c69",
   "metadata": {},
   "source": [
    "#### Creating Regression Model with pyTorch"
   ]
  },
  {
   "cell_type": "code",
   "execution_count": 10,
   "id": "3213ca9a-2b22-40a1-b845-85d627fa3237",
   "metadata": {},
   "outputs": [],
   "source": [
    "class LinearRegressionModel(nn.Module):\n",
    "    def __init__(self):\n",
    "        super().__init__()\n",
    "        self.weights = nn.Parameter(torch.randn(1, requires_grad=True, dtype=torch.float))\n",
    "        self.bias = nn.Parameter(torch.randn(1, requires_grad=True, dtype=torch.float))\n",
    "\n",
    "    def forward(self, x: torch.Tensor) -> torch.Tensor:\n",
    "        return self.weights * x + self.bias"
   ]
  },
  {
   "cell_type": "markdown",
   "id": "55626df3-f4c6-42b0-ab95-283c35593ddc",
   "metadata": {},
   "source": [
    "#### Create Model"
   ]
  },
  {
   "cell_type": "code",
   "execution_count": 11,
   "id": "730c81bb-9e9b-4e5b-9e4a-d66b46e8a592",
   "metadata": {},
   "outputs": [
    {
     "data": {
      "text/plain": [
       "[Parameter containing:\n",
       " tensor([1.4219], requires_grad=True),\n",
       " Parameter containing:\n",
       " tensor([-0.2314], requires_grad=True)]"
      ]
     },
     "execution_count": 11,
     "metadata": {},
     "output_type": "execute_result"
    }
   ],
   "source": [
    "torch.manual_seed(34)\n",
    "model_1 = LinearRegressionModel()\n",
    "list(model_1.parameters())"
   ]
  },
  {
   "cell_type": "markdown",
   "id": "e7ac173a-5ba8-410d-98aa-6c179f2a6cc1",
   "metadata": {},
   "source": [
    "#### Make Predictions"
   ]
  },
  {
   "cell_type": "code",
   "execution_count": 13,
   "id": "d900e903-da1f-4fd9-85ea-1d40eb49216c",
   "metadata": {},
   "outputs": [],
   "source": [
    "with torch.inference_mode():\n",
    "    y_preds = model_1(X_test)\n",
    "#y_preds"
   ]
  },
  {
   "cell_type": "code",
   "execution_count": 14,
   "id": "f0d1a777-150e-40e7-a90c-b969e154bd11",
   "metadata": {},
   "outputs": [
    {
     "data": {
      "image/png": "[encoded data removed]",
      "text/plain": [
       "<Figure size 1000x600 with 1 Axes>"
      ]
     },
     "metadata": {},
     "output_type": "display_data"
    }
   ],
   "source": [
    "plot_predictions(predictions=y_preds)"
   ]
  },
  {
   "cell_type": "markdown",
   "id": "34cca027-bae1-457e-ac44-42883f6570df",
   "metadata": {},
   "source": [
    "#### Train Model"
   ]
  },
  {
   "cell_type": "code",
   "execution_count": 15,
   "id": "b763b0d4-28f7-4741-b19b-4798e2dfb5a7",
   "metadata": {},
   "outputs": [
    {
     "data": {
      "text/plain": [
       "OrderedDict([('weights', tensor([1.4219])), ('bias', tensor([-0.2314]))])"
      ]
     },
     "execution_count": 15,
     "metadata": {},
     "output_type": "execute_result"
    }
   ],
   "source": [
    "model_1.state_dict()"
   ]
  },
  {
   "cell_type": "code",
   "execution_count": 20,
   "id": "80eca548-43fb-43e6-a684-a1c5a1786527",
   "metadata": {},
   "outputs": [],
   "source": [
    "loss_fn = nn.L1Loss()\n",
    "optimizer = torch.optim.SGD(params=model_1.parameters(), lr=0.05)"
   ]
  },
  {
   "cell_type": "markdown",
   "id": "22e52094-886f-4509-a1d7-ef5130a9f0cf",
   "metadata": {},
   "source": [
    "#### Training Loops"
   ]
  },
  {
   "cell_type": "code",
   "execution_count": 22,
   "id": "92897524-8d31-4703-8bf7-86f399d20d6c",
   "metadata": {},
   "outputs": [
    {
     "name": "stdout",
     "output_type": "stream",
     "text": [
      "Loss: 0.24940557777881622\n",
      "Epocj: 0 | Loss : 0.24940557777881622 | Test loss: 0.16972696781158447\n",
      "OrderedDict([('weights', tensor([1.4359])), ('bias', tensor([-0.1889]))])\n",
      "Loss: 0.21394169330596924\n",
      "Loss: 0.19252356886863708\n",
      "Loss: 0.17881625890731812\n",
      "Loss: 0.169727623462677\n",
      "Loss: 0.16339585185050964\n",
      "Loss: 0.15891484916210175\n",
      "Loss: 0.15548542141914368\n",
      "Loss: 0.15256914496421814\n",
      "Loss: 0.1500556766986847\n",
      "Loss: 0.14783598482608795\n",
      "Loss: 0.14580261707305908\n",
      "Loss: 0.14393356442451477\n",
      "Loss: 0.14206451177597046\n",
      "Loss: 0.14026162028312683\n",
      "Loss: 0.1385054886341095\n",
      "Loss: 0.13674938678741455\n",
      "Loss: 0.135005384683609\n",
      "Loss: 0.13329185545444489\n",
      "Loss: 0.13157834112644196\n",
      "Loss: 0.12986478209495544\n",
      "Loss: 0.12815125286579132\n",
      "Loss: 0.126437708735466\n",
      "Loss: 0.12472418695688248\n",
      "Loss: 0.12301063537597656\n",
      "Loss: 0.12129709869623184\n",
      "Loss: 0.11958356201648712\n",
      "Loss: 0.117870032787323\n",
      "Loss: 0.11615650355815887\n",
      "Loss: 0.11444296687841415\n",
      "Loss: 0.11272941529750824\n",
      "Loss: 0.11101589351892471\n",
      "Loss: 0.10930235683917999\n",
      "Loss: 0.10758880525827408\n",
      "Loss: 0.10587527602910995\n",
      "Loss: 0.10416173934936523\n",
      "Loss: 0.10244821012020111\n",
      "Loss: 0.1007346659898758\n",
      "Loss: 0.09902113676071167\n",
      "Loss: 0.09730760008096695\n",
      "Loss: 0.09559406340122223\n",
      "Loss: 0.09388052672147751\n",
      "Loss: 0.09216699749231339\n",
      "Loss: 0.09045346081256866\n",
      "Loss: 0.08873993158340454\n",
      "Loss: 0.08702637255191803\n",
      "Loss: 0.0853128582239151\n",
      "Loss: 0.08359931409358978\n",
      "Loss: 0.08188577741384506\n",
      "Loss: 0.08017338812351227\n",
      "Loss: 0.0784635916352272\n",
      "Loss: 0.07675006985664368\n",
      "Loss: 0.07503651082515717\n",
      "Loss: 0.07332299649715424\n",
      "Loss: 0.07160944491624832\n",
      "Loss: 0.0698959231376648\n",
      "Loss: 0.06818237155675888\n",
      "Loss: 0.06647238880395889\n",
      "Loss: 0.06476020812988281\n",
      "Loss: 0.0630466639995575\n",
      "Loss: 0.06133313849568367\n",
      "Loss: 0.05961959809064865\n",
      "Loss: 0.05790608376264572\n",
      "Loss: 0.056192547082901\n",
      "Loss: 0.054480064660310745\n",
      "Loss: 0.05277039855718613\n",
      "Loss: 0.051056861877441406\n",
      "Loss: 0.04934334382414818\n",
      "Loss: 0.047629810869693756\n",
      "Loss: 0.045916296541690826\n",
      "Loss: 0.044202759861946106\n",
      "Loss: 0.042489249259233475\n",
      "Loss: 0.040779128670692444\n",
      "Loss: 0.03906707838177681\n",
      "Loss: 0.03735356405377388\n",
      "Loss: 0.03564002364873886\n",
      "Loss: 0.03392650932073593\n",
      "Loss: 0.03221297264099121\n",
      "Loss: 0.03049945831298828\n",
      "Loss: 0.028786838054656982\n",
      "Loss: 0.027077291160821915\n",
      "Loss: 0.025363769382238388\n",
      "Loss: 0.023650238290429115\n",
      "Loss: 0.02193671464920044\n",
      "Loss: 0.020223189145326614\n",
      "Loss: 0.01850965991616249\n",
      "Loss: 0.016796136274933815\n",
      "Loss: 0.015085911378264427\n",
      "Loss: 0.013385996222496033\n",
      "Loss: 0.011670896783471107\n",
      "Loss: 0.00995537731796503\n",
      "Loss: 0.00827114563435316\n",
      "Loss: 0.006927717477083206\n",
      "Loss: 0.0111991660669446\n",
      "Loss: 0.04535694047808647\n",
      "Loss: 0.012444320134818554\n",
      "Loss: 0.04535694047808647\n",
      "Loss: 0.012444320134818554\n",
      "Loss: 0.04535694047808647\n",
      "Loss: 0.012444320134818554\n"
     ]
    }
   ],
   "source": [
    "epochs = 100\n",
    "\n",
    "epoch_count = []\n",
    "loss_values = []\n",
    "test_loss_values = []\n",
    "\n",
    "for epoch in range(epochs):\n",
    "    model_1.train()\n",
    "\n",
    "    y_pred = model_1(X_train)\n",
    "\n",
    "    loss = loss_fn(y_pred, y_train)\n",
    "    print(f\"Loss: {loss}\")\n",
    "\n",
    "    optimizer.zero_grad()\n",
    "\n",
    "    loss.backward()\n",
    "\n",
    "    optimizer.step()\n",
    "\n",
    "    model_1.eval()\n",
    "    with torch.inference_mode():\n",
    "        test_pred = model_1(X_test)\n",
    "        test_loss = loss_fn(test_pred, y_test)\n",
    "\n",
    "    if epoch % 100 == 0:\n",
    "        epoch_count.append(epoch)\n",
    "        loss_values.append(loss)\n",
    "        test_loss_values.append(test_loss)\n",
    "        print(f\"Epocj: {epoch} | Loss : {loss} | Test loss: {test_loss}\")\n",
    "\n",
    "        print(model_1.state_dict())"
   ]
  },
  {
   "cell_type": "code",
   "execution_count": 27,
   "id": "5623b917-0006-4af6-bc9c-6d83c4c97146",
   "metadata": {},
   "outputs": [],
   "source": [
    "with torch.inference_mode():\n",
    "    y_preds_new = model_1(X_test)"
   ]
  },
  {
   "cell_type": "code",
   "execution_count": 26,
   "id": "1410ddac-ee1f-493b-bedd-00b66f3d2222",
   "metadata": {},
   "outputs": [
    {
     "data": {
      "image/png": "[encoded data removed]",
      "text/plain": [
       "<Figure size 1000x600 with 1 Axes>"
      ]
     },
     "metadata": {},
     "output_type": "display_data"
    }
   ],
   "source": [
    "plot_predictions(predictions=y_preds)"
   ]
  },
  {
   "cell_type": "code",
   "execution_count": 28,
   "id": "1e68bf9b-c6c4-40c9-98de-7c760949c571",
   "metadata": {},
   "outputs": [
    {
     "data": {
      "image/png": "[encoded data removed]",
      "text/plain": [
       "<Figure size 1000x600 with 1 Axes>"
      ]
     },
     "metadata": {},
     "output_type": "display_data"
    }
   ],
   "source": [
    "plot_predictions(predictions=y_preds_new)"
   ]
  },
  {
   "cell_type": "markdown",
   "id": "730e67b0-0a35-4123-8c6f-84af5be02038",
   "metadata": {},
   "source": [
    "#### Saving Model"
   ]
  },
  {
   "cell_type": "code",
   "execution_count": 30,
   "id": "8d8c7dc0-08aa-49a3-a97f-6ae49861f65b",
   "metadata": {},
   "outputs": [
    {
     "name": "stdout",
     "output_type": "stream",
     "text": [
      "Saving model to: models/01_pytorch_workflow_model_1.pth\n"
     ]
    }
   ],
   "source": [
    "# saving pyTorch model\n",
    "from pathlib import Path\n",
    "\n",
    "# 1. Create models directory\n",
    "MODEL_PATH = Path(\"models\")\n",
    "MODEL_PATH.mkdir(parents=True, exist_ok=True)\n",
    "\n",
    "# 2. Create model save path\n",
    "MODEL_NAME = '01_pytorch_workflow_model_1.pth'\n",
    "MODEL_SAVE_PATH = MODEL_PATH / MODEL_NAME\n",
    "\n",
    "MODEL_SAVE_PATH\n",
    "\n",
    "# 3. save the model state dict\n",
    "print(f\"Saving model to: {MODEL_SAVE_PATH}\")\n",
    "torch.save(obj=model_1.state_dict(), f=MODEL_SAVE_PATH)"
   ]
  },
  {
   "cell_type": "markdown",
   "id": "a61c364a-990e-4f19-a567-5cfe88ab1171",
   "metadata": {},
   "source": [
    "#### Loading Model"
   ]
  },
  {
   "cell_type": "code",
   "execution_count": 31,
   "id": "1d72021f-1601-46d6-b487-fb767c6edfa1",
   "metadata": {},
   "outputs": [
    {
     "data": {
      "text/plain": [
       "<All keys matched successfully>"
      ]
     },
     "execution_count": 31,
     "metadata": {},
     "output_type": "execute_result"
    }
   ],
   "source": [
    "loaded_model_1 = LinearRegressionModel()\n",
    "loaded_model_1.load_state_dict(torch.load(f=MODEL_SAVE_PATH))\n"
   ]
  },
  {
   "cell_type": "code",
   "execution_count": 32,
   "id": "435eff10-6887-4556-a0ed-6a9c0e04f920",
   "metadata": {},
   "outputs": [
    {
     "data": {
      "text/plain": [
       "tensor([[0.8183],\n",
       "        [0.8254],\n",
       "        [0.8325],\n",
       "        [0.8396],\n",
       "        [0.8467],\n",
       "        [0.8538],\n",
       "        [0.8609],\n",
       "        [0.8680],\n",
       "        [0.8750],\n",
       "        [0.8821],\n",
       "        [0.8892],\n",
       "        [0.8963],\n",
       "        [0.9034],\n",
       "        [0.9105],\n",
       "        [0.9176],\n",
       "        [0.9247],\n",
       "        [0.9318],\n",
       "        [0.9389],\n",
       "        [0.9460],\n",
       "        [0.9530]])"
      ]
     },
     "execution_count": 32,
     "metadata": {},
     "output_type": "execute_result"
    }
   ],
   "source": [
    "loaded_model_1.eval()\n",
    "with torch.inference_mode():\n",
    "    loaded_model_preds = loaded_model_1(X_test)\n",
    "loaded_model_preds"
   ]
  },
  {
   "cell_type": "code",
   "execution_count": 34,
   "id": "2a31e6b1-29d8-437a-87de-0fc6cb418c9b",
   "metadata": {},
   "outputs": [
    {
     "data": {
      "text/plain": [
       "tensor([[True],\n",
       "        [True],\n",
       "        [True],\n",
       "        [True],\n",
       "        [True],\n",
       "        [True],\n",
       "        [True],\n",
       "        [True],\n",
       "        [True],\n",
       "        [True],\n",
       "        [True],\n",
       "        [True],\n",
       "        [True],\n",
       "        [True],\n",
       "        [True],\n",
       "        [True],\n",
       "        [True],\n",
       "        [True],\n",
       "        [True],\n",
       "        [True]])"
      ]
     },
     "execution_count": 34,
     "metadata": {},
     "output_type": "execute_result"
    }
   ],
   "source": [
    "with torch.inference_mode():\n",
    "    y_preds = model_1(X_test)\n",
    "y_preds==loaded_model_preds"
   ]
  },
  {
   "cell_type": "code",
   "execution_count": null,
   "id": "fc5d8a26-6235-4b3b-9eb4-dbc573082a9f",
   "metadata": {},
   "outputs": [],
   "source": []
  }
 ],
 "metadata": {
  "kernelspec": {
   "display_name": "Python 3 (ipykernel)",
   "language": "python",
   "name": "python3"
  },
  "language_info": {
   "codemirror_mode": {
    "name": "ipython",
    "version": 3
   },
   "file_extension": ".py",
   "mimetype": "text/x-python",
   "name": "python",
   "nbconvert_exporter": "python",
   "pygments_lexer": "ipython3",
   "version": "3.10.8"
  }
 },
 "nbformat": 4,
 "nbformat_minor": 5
}
