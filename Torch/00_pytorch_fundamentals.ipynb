{
 "cells": [
  {
   "cell_type": "code",
   "execution_count": 1,
   "id": "66387ffa-5729-48c6-a9f7-63d47f2035d4",
   "metadata": {},
   "outputs": [
    {
     "name": "stdout",
     "output_type": "stream",
     "text": [
      "2.2.2\n"
     ]
    }
   ],
   "source": [
    "import torch\n",
    "import pandas as pd\n",
    "import numpy as np\n",
    "import matplotlib.pyplot as plt\n",
    "print(torch.__version__)"
   ]
  },
  {
   "cell_type": "markdown",
   "id": "83633ad1-5a06-4e4b-a9a4-6231b4bba4e3",
   "metadata": {},
   "source": [
    "## Introduction to tensors\n",
    "\n",
    "### Creating tensors\n",
    "PyTorch tensors are ceating usng `torch.Tensor()`"
   ]
  },
  {
   "cell_type": "code",
   "execution_count": 3,
   "id": "47157467-5813-49c3-a99c-fc3eed73eb84",
   "metadata": {},
   "outputs": [
    {
     "data": {
      "text/plain": [
       "tensor(7)"
      ]
     },
     "execution_count": 3,
     "metadata": {},
     "output_type": "execute_result"
    }
   ],
   "source": [
    "# scalar\n",
    "scalar = torch.tensor(7)\n",
    "scalar"
   ]
  },
  {
   "cell_type": "code",
   "execution_count": 4,
   "id": "867e5136-8f95-46a1-8b1c-58dc80dc7e46",
   "metadata": {},
   "outputs": [
    {
     "data": {
      "text/plain": [
       "0"
      ]
     },
     "execution_count": 4,
     "metadata": {},
     "output_type": "execute_result"
    }
   ],
   "source": [
    "scalar.ndim"
   ]
  },
  {
   "cell_type": "code",
   "execution_count": 5,
   "id": "526e2d6f-2329-4d98-abcd-54ca1c4b655d",
   "metadata": {},
   "outputs": [
    {
     "data": {
      "text/plain": [
       "7"
      ]
     },
     "execution_count": 5,
     "metadata": {},
     "output_type": "execute_result"
    }
   ],
   "source": [
    "# get tensor back as Python int\n",
    "scalar.item()"
   ]
  },
  {
   "cell_type": "code",
   "execution_count": 6,
   "id": "99db6e26-eb55-4c24-aa18-d5136000b971",
   "metadata": {},
   "outputs": [
    {
     "data": {
      "text/plain": [
       "tensor([7, 7])"
      ]
     },
     "execution_count": 6,
     "metadata": {},
     "output_type": "execute_result"
    }
   ],
   "source": [
    "# vector\n",
    "vector = torch.tensor([7,7])\n",
    "vector"
   ]
  },
  {
   "cell_type": "code",
   "execution_count": 7,
   "id": "4d414c1e-77c7-4c43-8a2f-fb073136bf6c",
   "metadata": {},
   "outputs": [
    {
     "data": {
      "text/plain": [
       "1"
      ]
     },
     "execution_count": 7,
     "metadata": {},
     "output_type": "execute_result"
    }
   ],
   "source": [
    "vector.ndim"
   ]
  },
  {
   "cell_type": "code",
   "execution_count": 8,
   "id": "0a2107d8-91a8-4732-bf9e-946b82100978",
   "metadata": {},
   "outputs": [
    {
     "data": {
      "text/plain": [
       "torch.Size([2])"
      ]
     },
     "execution_count": 8,
     "metadata": {},
     "output_type": "execute_result"
    }
   ],
   "source": [
    "vector.shape"
   ]
  },
  {
   "cell_type": "code",
   "execution_count": 9,
   "id": "6d64cfeb-597e-4b04-998c-fae45d7b335f",
   "metadata": {},
   "outputs": [
    {
     "data": {
      "text/plain": [
       "tensor([[ 7,  8],\n",
       "        [ 9, 10]])"
      ]
     },
     "execution_count": 9,
     "metadata": {},
     "output_type": "execute_result"
    }
   ],
   "source": [
    "# MATRIX\n",
    "MATRIX = torch.tensor([[7,8],[9,10]])\n",
    "MATRIX"
   ]
  },
  {
   "cell_type": "code",
   "execution_count": 10,
   "id": "9ea60040-e743-4d89-b4d1-8483ae000b06",
   "metadata": {},
   "outputs": [
    {
     "data": {
      "text/plain": [
       "2"
      ]
     },
     "execution_count": 10,
     "metadata": {},
     "output_type": "execute_result"
    }
   ],
   "source": [
    "MATRIX.ndim"
   ]
  },
  {
   "cell_type": "code",
   "execution_count": 11,
   "id": "ce07a6c9-c4ea-4a50-bead-adc8a0a30593",
   "metadata": {},
   "outputs": [
    {
     "data": {
      "text/plain": [
       "torch.Size([2, 2])"
      ]
     },
     "execution_count": 11,
     "metadata": {},
     "output_type": "execute_result"
    }
   ],
   "source": [
    "MATRIX.shape"
   ]
  },
  {
   "cell_type": "code",
   "execution_count": 12,
   "id": "5ac97def-a3ab-4c1a-a4c4-68d923013347",
   "metadata": {},
   "outputs": [
    {
     "data": {
      "text/plain": [
       "(tensor([7, 8]), tensor([ 9, 10]))"
      ]
     },
     "execution_count": 12,
     "metadata": {},
     "output_type": "execute_result"
    }
   ],
   "source": [
    "MATRIX[0], MATRIX[1]"
   ]
  },
  {
   "cell_type": "code",
   "execution_count": 13,
   "id": "f8c14c12-d15d-48c2-bd48-0e638713cd6a",
   "metadata": {},
   "outputs": [
    {
     "data": {
      "text/plain": [
       "tensor([[[1, 2, 3],\n",
       "         [3, 6, 9],\n",
       "         [2, 4, 5]]])"
      ]
     },
     "execution_count": 13,
     "metadata": {},
     "output_type": "execute_result"
    }
   ],
   "source": [
    "## TENSOR\n",
    "TENSOR = torch.tensor([[[1,2,3],\n",
    "                       [3,6,9],\n",
    "                       [2,4,5]]])\n",
    "TENSOR"
   ]
  },
  {
   "cell_type": "code",
   "execution_count": 14,
   "id": "fd8ffca5-852a-4d96-96fc-51fb82756b9f",
   "metadata": {},
   "outputs": [
    {
     "data": {
      "text/plain": [
       "3"
      ]
     },
     "execution_count": 14,
     "metadata": {},
     "output_type": "execute_result"
    }
   ],
   "source": [
    "TENSOR.ndim"
   ]
  },
  {
   "cell_type": "code",
   "execution_count": 15,
   "id": "564058e4-aa6b-474d-9673-309389845a98",
   "metadata": {},
   "outputs": [
    {
     "data": {
      "text/plain": [
       "torch.Size([1, 3, 3])"
      ]
     },
     "execution_count": 15,
     "metadata": {},
     "output_type": "execute_result"
    }
   ],
   "source": [
    "TENSOR.shape"
   ]
  },
  {
   "cell_type": "code",
   "execution_count": 16,
   "id": "3ac6cd63-3ca7-4f81-b6cf-01be194e8e89",
   "metadata": {},
   "outputs": [
    {
     "data": {
      "text/plain": [
       "tensor([[1, 2, 3],\n",
       "        [3, 6, 9],\n",
       "        [2, 4, 5]])"
      ]
     },
     "execution_count": 16,
     "metadata": {},
     "output_type": "execute_result"
    }
   ],
   "source": [
    "TENSOR[0]"
   ]
  },
  {
   "cell_type": "code",
   "execution_count": 17,
   "id": "f0d2f3a4-88bf-47fb-af1f-0a9c66e225bb",
   "metadata": {},
   "outputs": [
    {
     "data": {
      "text/plain": [
       "tensor([1, 2, 3])"
      ]
     },
     "execution_count": 17,
     "metadata": {},
     "output_type": "execute_result"
    }
   ],
   "source": [
    "TENSOR[0][0]"
   ]
  },
  {
   "cell_type": "code",
   "execution_count": 18,
   "id": "2f7ce985-c956-4832-b32e-c3151ddd2621",
   "metadata": {},
   "outputs": [
    {
     "data": {
      "text/plain": [
       "3"
      ]
     },
     "execution_count": 18,
     "metadata": {},
     "output_type": "execute_result"
    }
   ],
   "source": [
    "## NEW TENSOR\n",
    "TENSOR_NEW = torch.tensor([[[34,5,20],[9,0,7],[33,34,6]]])\n",
    "TENSOR_NEW.ndim"
   ]
  },
  {
   "cell_type": "code",
   "execution_count": 19,
   "id": "8c570517-c4e0-46ac-b02f-d1e75dda386c",
   "metadata": {},
   "outputs": [
    {
     "data": {
      "text/plain": [
       "torch.Size([1, 3, 3])"
      ]
     },
     "execution_count": 19,
     "metadata": {},
     "output_type": "execute_result"
    }
   ],
   "source": [
    "TENSOR_NEW.shape"
   ]
  },
  {
   "cell_type": "code",
   "execution_count": 20,
   "id": "96e9bcaa-156a-4d3e-88bf-ebaddf3b8751",
   "metadata": {},
   "outputs": [
    {
     "data": {
      "text/plain": [
       "tensor([34,  5, 20])"
      ]
     },
     "execution_count": 20,
     "metadata": {},
     "output_type": "execute_result"
    }
   ],
   "source": [
    "TENSOR_NEW[0][0]"
   ]
  },
  {
   "cell_type": "markdown",
   "id": "066f07ae-26a8-4137-8961-2387f92e376e",
   "metadata": {},
   "source": [
    "### Random Tensors\n",
    "\n",
    "Why random tensors?\n",
    "Random tensors are imporant because the way many neural networks learn is they start with tensors full of rnadom #s and then ajudst to better represent the data.\n",
    "\n",
    "`Start with random numbers -> look at data -> update random #s -> look at data -> update`"
   ]
  },
  {
   "cell_type": "code",
   "execution_count": 21,
   "id": "5f98129a-42ef-4417-bd3d-942a2417236e",
   "metadata": {},
   "outputs": [
    {
     "data": {
      "text/plain": [
       "tensor([[0.7966, 0.9725, 0.0330, 0.9777],\n",
       "        [0.1238, 0.9956, 0.6226, 0.5850],\n",
       "        [0.5500, 0.7213, 0.6265, 0.6902],\n",
       "        [0.7588, 0.4021, 0.1306, 0.5271],\n",
       "        [0.7282, 0.6211, 0.2450, 0.3887]])"
      ]
     },
     "execution_count": 21,
     "metadata": {},
     "output_type": "execute_result"
    }
   ],
   "source": [
    "## create a random tensor of size/shahpe (3,4)\n",
    "random_tensor = torch.rand(5,4)\n",
    "random_tensor"
   ]
  },
  {
   "cell_type": "code",
   "execution_count": 22,
   "id": "b088574b-91a8-48ef-b757-0d5aa68680c6",
   "metadata": {},
   "outputs": [
    {
     "data": {
      "text/plain": [
       "tensor([[0.7966, 0.9725, 0.0330, 0.9777],\n",
       "        [0.1238, 0.9956, 0.6226, 0.5850],\n",
       "        [0.5500, 0.7213, 0.6265, 0.6902],\n",
       "        [0.7588, 0.4021, 0.1306, 0.5271],\n",
       "        [0.7282, 0.6211, 0.2450, 0.3887]])"
      ]
     },
     "execution_count": 22,
     "metadata": {},
     "output_type": "execute_result"
    }
   ],
   "source": [
    "random_tensor"
   ]
  },
  {
   "cell_type": "code",
   "execution_count": 23,
   "id": "11ad5f2e-ab89-482b-8c44-453b01c2ceaa",
   "metadata": {},
   "outputs": [
    {
     "data": {
      "text/plain": [
       "2"
      ]
     },
     "execution_count": 23,
     "metadata": {},
     "output_type": "execute_result"
    }
   ],
   "source": [
    "random_tensor = torch.rand(5,4)\n",
    "random_tensor.ndim"
   ]
  },
  {
   "cell_type": "code",
   "execution_count": 24,
   "id": "22e59310-c962-46bf-ba49-dcbaf7e7536f",
   "metadata": {},
   "outputs": [
    {
     "data": {
      "text/plain": [
       "(torch.Size([224, 224, 3]), 3)"
      ]
     },
     "execution_count": 24,
     "metadata": {},
     "output_type": "execute_result"
    }
   ],
   "source": [
    "# Create a random tensor with similar shape to an image tensor\n",
    "random_image_size_tensor = torch.rand(size=(224,224,3)) # height, width, color channels (RBG)\n",
    "random_image_size_tensor.shape, random_image_size_tensor.ndim"
   ]
  },
  {
   "cell_type": "code",
   "execution_count": 25,
   "id": "f8ef0c62-6c41-410f-a503-6858ef0b5988",
   "metadata": {},
   "outputs": [
    {
     "data": {
      "text/plain": [
       "(3, torch.Size([5, 10, 10]))"
      ]
     },
     "execution_count": 25,
     "metadata": {},
     "output_type": "execute_result"
    }
   ],
   "source": [
    "random_tensor = torch.rand(5,10,10)\n",
    "random_tensor.ndim, random_tensor.shape"
   ]
  },
  {
   "cell_type": "markdown",
   "id": "8639677a-34bc-4e98-9841-88ccbb57d2f3",
   "metadata": {},
   "source": [
    "### Zeroes and ones"
   ]
  },
  {
   "cell_type": "code",
   "execution_count": 26,
   "id": "122e892e-aff4-42c8-8cb5-5a20f45d1cb0",
   "metadata": {},
   "outputs": [
    {
     "data": {
      "text/plain": [
       "tensor([[0., 0., 0., 0.],\n",
       "        [0., 0., 0., 0.],\n",
       "        [0., 0., 0., 0.]])"
      ]
     },
     "execution_count": 26,
     "metadata": {},
     "output_type": "execute_result"
    }
   ],
   "source": [
    "# create a tensor of all zeoros\n",
    "zeros = torch.zeros(size=(3,4))\n",
    "zeros"
   ]
  },
  {
   "cell_type": "code",
   "execution_count": 27,
   "id": "c1e537cc-51f4-4c06-8856-de4080c5f58c",
   "metadata": {},
   "outputs": [
    {
     "data": {
      "text/plain": [
       "tensor([[1., 1., 1., 1.],\n",
       "        [1., 1., 1., 1.],\n",
       "        [1., 1., 1., 1.]])"
      ]
     },
     "execution_count": 27,
     "metadata": {},
     "output_type": "execute_result"
    }
   ],
   "source": [
    "# create a tensor of all ones\n",
    "ones = torch.ones(size=(3,4))\n",
    "ones"
   ]
  },
  {
   "cell_type": "code",
   "execution_count": 28,
   "id": "41b0ac3e-35c5-46b1-98d3-a9ac4f795473",
   "metadata": {},
   "outputs": [
    {
     "data": {
      "text/plain": [
       "torch.float32"
      ]
     },
     "execution_count": 28,
     "metadata": {},
     "output_type": "execute_result"
    }
   ],
   "source": [
    "ones.dtype"
   ]
  },
  {
   "cell_type": "code",
   "execution_count": 29,
   "id": "28efd5e8-78e4-4768-b98c-ef05e6688cf8",
   "metadata": {},
   "outputs": [
    {
     "data": {
      "text/plain": [
       "torch.float32"
      ]
     },
     "execution_count": 29,
     "metadata": {},
     "output_type": "execute_result"
    }
   ],
   "source": [
    "random_tensor.dtype"
   ]
  },
  {
   "cell_type": "markdown",
   "id": "d86af7ba-53e7-49ad-a8bc-85cc47c2d79d",
   "metadata": {},
   "source": [
    "### Create a range of tensors and tensors-like"
   ]
  },
  {
   "cell_type": "code",
   "execution_count": 30,
   "id": "3d0bce06-c871-4c95-b7d6-ddaca2e40438",
   "metadata": {},
   "outputs": [
    {
     "data": {
      "text/plain": [
       "tensor([ 1,  2,  3,  4,  5,  6,  7,  8,  9, 10])"
      ]
     },
     "execution_count": 30,
     "metadata": {},
     "output_type": "execute_result"
    }
   ],
   "source": [
    "# use torch.arange()\n",
    "# torch.range deprecated\n",
    "one_to_ten=torch.arange(start=1,end=11,step=1)\n",
    "one_to_ten"
   ]
  },
  {
   "cell_type": "code",
   "execution_count": 31,
   "id": "5e567fcb-648f-462b-a2a3-14202cfe114c",
   "metadata": {},
   "outputs": [
    {
     "data": {
      "text/plain": [
       "tensor([ 1,  2,  3,  4,  5,  6,  7,  8,  9, 10])"
      ]
     },
     "execution_count": 31,
     "metadata": {},
     "output_type": "execute_result"
    }
   ],
   "source": [
    "## Creating tensors like\n",
    "one_to_ten"
   ]
  },
  {
   "cell_type": "code",
   "execution_count": 32,
   "id": "0b6b68c8-f1d4-4b49-801e-08247a7fc97b",
   "metadata": {},
   "outputs": [],
   "source": [
    "ten_zeros = torch.zeros_like(input=one_to_ten)"
   ]
  },
  {
   "cell_type": "code",
   "execution_count": 33,
   "id": "0d67e627-ca3b-4223-be05-96497b3554a2",
   "metadata": {},
   "outputs": [
    {
     "data": {
      "text/plain": [
       "tensor([0, 0, 0, 0, 0, 0, 0, 0, 0, 0])"
      ]
     },
     "execution_count": 33,
     "metadata": {},
     "output_type": "execute_result"
    }
   ],
   "source": [
    "ten_zeros"
   ]
  },
  {
   "cell_type": "markdown",
   "id": "61af2a22-2f20-408d-9401-4e2ba4ac4464",
   "metadata": {},
   "source": [
    "### Tensor datatypes\n",
    "\n",
    "**Note** Tensor datatypes is one of the 3 big building blocks/potential sources of errors with PyTorch and deep learning;\n",
    "1. Need the right datatype to perform certain operations\n",
    "2. Need the right shape of the data\n",
    "3. Tensor needs to be on the appropriate/right device"
   ]
  },
  {
   "cell_type": "code",
   "execution_count": 34,
   "id": "fe1e1507-a6a8-44e0-a287-53ff63b4587e",
   "metadata": {},
   "outputs": [
    {
     "data": {
      "text/plain": [
       "tensor([3., 6., 9.])"
      ]
     },
     "execution_count": 34,
     "metadata": {},
     "output_type": "execute_result"
    }
   ],
   "source": [
    "# Float 32 tensor\n",
    "float_32_tensor = torch.tensor([3.0, 6.0, 9.0], dtype=None)\n",
    "float_32_tensor"
   ]
  },
  {
   "cell_type": "code",
   "execution_count": 35,
   "id": "dc26d5f6-51cb-4a88-8535-c3d084bc1e99",
   "metadata": {},
   "outputs": [
    {
     "data": {
      "text/plain": [
       "torch.float32"
      ]
     },
     "execution_count": 35,
     "metadata": {},
     "output_type": "execute_result"
    }
   ],
   "source": [
    "# default data type to come out as float 32\n",
    "float_32_tensor.dtype"
   ]
  },
  {
   "cell_type": "code",
   "execution_count": 36,
   "id": "1eaf460a-ebf1-4ec1-b303-26b9f30c3b72",
   "metadata": {},
   "outputs": [
    {
     "data": {
      "text/plain": [
       "tensor([3., 6., 9.], dtype=torch.float16)"
      ]
     },
     "execution_count": 36,
     "metadata": {},
     "output_type": "execute_result"
    }
   ],
   "source": [
    "# Float 32 tensor\n",
    "float_16_tensor = torch.tensor([3.0, 6.0, 9.0], dtype=torch.float16)\n",
    "float_16_tensor"
   ]
  },
  {
   "cell_type": "code",
   "execution_count": 37,
   "id": "9251eb28-abb4-471e-bbcf-6d1810d96842",
   "metadata": {},
   "outputs": [],
   "source": [
    "float_32_tensor = torch.tensor([3.0, 6.0, 9.0],\n",
    "                               dtype=None, # what type of unit the data is - 16 bit, 32 bit vs 64 bit\n",
    "                               device=None, # what device the tensor is on; ex: 'cuda', etc\n",
    "                               requires_grad=False) # if want PyTorch to track the gradients of a tensor"
   ]
  },
  {
   "cell_type": "code",
   "execution_count": 38,
   "id": "d12b9423-9394-4c29-95bc-531b2fac067c",
   "metadata": {},
   "outputs": [
    {
     "data": {
      "text/plain": [
       "torch.float32"
      ]
     },
     "execution_count": 38,
     "metadata": {},
     "output_type": "execute_result"
    }
   ],
   "source": [
    "float_32_tensor.dtype"
   ]
  },
  {
   "cell_type": "code",
   "execution_count": 39,
   "id": "9f71c1ba-7aa9-4c3a-8e15-0f45022ba866",
   "metadata": {},
   "outputs": [
    {
     "data": {
      "text/plain": [
       "tensor([3., 6., 9.], dtype=torch.float16)"
      ]
     },
     "execution_count": 39,
     "metadata": {},
     "output_type": "execute_result"
    }
   ],
   "source": [
    "# converting from float32 to float16\n",
    "float_16_tensor = float_32_tensor.type(torch.float16)\n",
    "float_16_tensor"
   ]
  },
  {
   "cell_type": "code",
   "execution_count": 40,
   "id": "93776f4a-2b64-41da-a435-6e3798cdef9e",
   "metadata": {},
   "outputs": [
    {
     "data": {
      "text/plain": [
       "tensor([ 9., 36., 81.])"
      ]
     },
     "execution_count": 40,
     "metadata": {},
     "output_type": "execute_result"
    }
   ],
   "source": [
    "float_16_tensor * float_32_tensor"
   ]
  },
  {
   "cell_type": "code",
   "execution_count": 41,
   "id": "a194c48b-1d47-4739-81bf-bb35c19a30fe",
   "metadata": {},
   "outputs": [
    {
     "data": {
      "text/plain": [
       "tensor([3, 6, 9], dtype=torch.int32)"
      ]
     },
     "execution_count": 41,
     "metadata": {},
     "output_type": "execute_result"
    }
   ],
   "source": [
    "int_32_tensor = torch.tensor([3,6,9], dtype=torch.int32)\n",
    "int_32_tensor"
   ]
  },
  {
   "cell_type": "code",
   "execution_count": 42,
   "id": "6516b657-df31-4f2f-a51f-52b541fa15fc",
   "metadata": {},
   "outputs": [
    {
     "data": {
      "text/plain": [
       "tensor([ 9., 36., 81.])"
      ]
     },
     "execution_count": 42,
     "metadata": {},
     "output_type": "execute_result"
    }
   ],
   "source": [
    "float_32_tensor * int_32_tensor"
   ]
  },
  {
   "cell_type": "markdown",
   "id": "b37a3aab-8b63-4943-9a61-c441fb7104e6",
   "metadata": {},
   "source": [
    "### Getting Information from Tensors - tensor Attributes\n",
    "1. Tensor datatype - can use `tensor.dtype`\n",
    "2. Tensor shape - can use `tensor.shape`\n",
    "3. Tensor device - can use `tensor.device`"
   ]
  },
  {
   "cell_type": "code",
   "execution_count": 43,
   "id": "0f67a93d-fa0a-4964-897b-0a0bae781811",
   "metadata": {},
   "outputs": [
    {
     "data": {
      "text/plain": [
       "tensor([[0.6069, 0.2954, 0.9541, 0.0475, 0.7120, 0.3352, 0.2747],\n",
       "        [0.3852, 0.7632, 0.8614, 0.9106, 0.2425, 0.3085, 0.5750],\n",
       "        [0.7059, 0.1973, 0.3854, 0.3412, 0.3631, 0.3436, 0.9649],\n",
       "        [0.0964, 0.5626, 0.1305, 0.9319, 0.6145, 0.3053, 0.0333],\n",
       "        [0.8197, 0.8515, 0.1431, 0.5747, 0.7330, 0.8209, 0.2758],\n",
       "        [0.8668, 0.0964, 0.7762, 0.8798, 0.0064, 0.2053, 0.4832],\n",
       "        [0.7815, 0.3578, 0.0564, 0.5585, 0.7043, 0.1642, 0.0866],\n",
       "        [0.8631, 0.3916, 0.7764, 0.7561, 0.5120, 0.5158, 0.2252],\n",
       "        [0.8627, 0.5863, 0.9137, 0.2304, 0.5714, 0.7116, 0.6934],\n",
       "        [0.4611, 0.0447, 0.2468, 0.6002, 0.2563, 0.8688, 0.3348]])"
      ]
     },
     "execution_count": 43,
     "metadata": {},
     "output_type": "execute_result"
    }
   ],
   "source": [
    "# create a tesnor\n",
    "some_tensor = torch.rand(10,7)\n",
    "some_tensor"
   ]
  },
  {
   "cell_type": "code",
   "execution_count": 44,
   "id": "f8fe3ba2-73f8-4be4-aff3-16bc94e586e4",
   "metadata": {},
   "outputs": [
    {
     "name": "stdout",
     "output_type": "stream",
     "text": [
      "tensor([[0.6069, 0.2954, 0.9541, 0.0475, 0.7120, 0.3352, 0.2747],\n",
      "        [0.3852, 0.7632, 0.8614, 0.9106, 0.2425, 0.3085, 0.5750],\n",
      "        [0.7059, 0.1973, 0.3854, 0.3412, 0.3631, 0.3436, 0.9649],\n",
      "        [0.0964, 0.5626, 0.1305, 0.9319, 0.6145, 0.3053, 0.0333],\n",
      "        [0.8197, 0.8515, 0.1431, 0.5747, 0.7330, 0.8209, 0.2758],\n",
      "        [0.8668, 0.0964, 0.7762, 0.8798, 0.0064, 0.2053, 0.4832],\n",
      "        [0.7815, 0.3578, 0.0564, 0.5585, 0.7043, 0.1642, 0.0866],\n",
      "        [0.8631, 0.3916, 0.7764, 0.7561, 0.5120, 0.5158, 0.2252],\n",
      "        [0.8627, 0.5863, 0.9137, 0.2304, 0.5714, 0.7116, 0.6934],\n",
      "        [0.4611, 0.0447, 0.2468, 0.6002, 0.2563, 0.8688, 0.3348]])\n",
      "Datatype of tensor: torch.float32\n",
      "Shape of tensor: torch.Size([10, 7])\n",
      "Tensor is on device: cpu\n"
     ]
    }
   ],
   "source": [
    "# find out details about some tensor\n",
    "print(some_tensor)\n",
    "print(f\"Datatype of tensor: {some_tensor.dtype}\")\n",
    "print(f\"Shape of tensor: {some_tensor.shape}\")\n",
    "print(f\"Tensor is on device: {some_tensor.device}\")"
   ]
  },
  {
   "cell_type": "markdown",
   "id": "25aff8c7-8acb-424e-8797-4474fc608a48",
   "metadata": {},
   "source": [
    "### Manipulating tensors (Tensor Operations)\n",
    "\n",
    "Tensor operations include:\n",
    "* Addition\n",
    "* Subtraction\n",
    "* Multiplication (element-wise)\n",
    "* Division\n",
    "* Matrix multiplication"
   ]
  },
  {
   "cell_type": "code",
   "execution_count": 45,
   "id": "f9a6d26e-0239-4f51-a4a1-1e75cdc43626",
   "metadata": {},
   "outputs": [
    {
     "data": {
      "text/plain": [
       "tensor([11, 12, 13])"
      ]
     },
     "execution_count": 45,
     "metadata": {},
     "output_type": "execute_result"
    }
   ],
   "source": [
    "# create a tensor and add 10 to it\n",
    "tensor = torch.tensor([1,2,3])\n",
    "tensor +10"
   ]
  },
  {
   "cell_type": "code",
   "execution_count": 46,
   "id": "ac28c954-855a-42ad-8abe-1d7ff4088c06",
   "metadata": {},
   "outputs": [
    {
     "data": {
      "text/plain": [
       "tensor([10, 20, 30])"
      ]
     },
     "execution_count": 46,
     "metadata": {},
     "output_type": "execute_result"
    }
   ],
   "source": [
    "## multiply tensor by 10\n",
    "tensor * 10"
   ]
  },
  {
   "cell_type": "code",
   "execution_count": 47,
   "id": "7eb90349-0056-4ded-8de7-73cca04a361a",
   "metadata": {},
   "outputs": [
    {
     "data": {
      "text/plain": [
       "tensor([-9, -8, -7])"
      ]
     },
     "execution_count": 47,
     "metadata": {},
     "output_type": "execute_result"
    }
   ],
   "source": [
    "# subtract 10\n",
    "tensor - 10"
   ]
  },
  {
   "cell_type": "code",
   "execution_count": 48,
   "id": "33fb6faa-6061-4431-ad7c-bf5e5b35c8fc",
   "metadata": {},
   "outputs": [
    {
     "data": {
      "text/plain": [
       "tensor([10, 20, 30])"
      ]
     },
     "execution_count": 48,
     "metadata": {},
     "output_type": "execute_result"
    }
   ],
   "source": [
    "# try out PyTorch in-built functions\n",
    "torch.mul(tensor, 10)"
   ]
  },
  {
   "cell_type": "markdown",
   "id": "2cc0aa2d-cd54-4b5d-89f8-586ce4209d05",
   "metadata": {},
   "source": [
    "### Matrix Multiplication\n",
    "\n",
    "Two main ways of performing multiplication in neural nets and deep learning\n",
    "\n",
    "1. Element-wise multiplication\n",
    "2.  Matrix multiplication (aka dot product)"
   ]
  },
  {
   "cell_type": "code",
   "execution_count": 49,
   "id": "498ff213-21cb-4ffc-8d53-f0bb0026a75b",
   "metadata": {},
   "outputs": [
    {
     "name": "stdout",
     "output_type": "stream",
     "text": [
      "tensor([1, 2, 3]) * tensor([1, 2, 3])\n",
      "Equals: tensor([1, 4, 9])\n"
     ]
    }
   ],
   "source": [
    "## Element-wise multiplication\n",
    "print(tensor, \"*\", tensor)\n",
    "print(f\"Equals: {tensor * tensor}\")"
   ]
  },
  {
   "cell_type": "code",
   "execution_count": 50,
   "id": "443c0672-0cec-482c-985c-13bbe2db9f5e",
   "metadata": {},
   "outputs": [
    {
     "data": {
      "text/plain": [
       "tensor(14)"
      ]
     },
     "execution_count": 50,
     "metadata": {},
     "output_type": "execute_result"
    }
   ],
   "source": [
    "## Matrix multiplication\n",
    "\n",
    "torch.matmul(tensor, tensor)"
   ]
  },
  {
   "cell_type": "code",
   "execution_count": 51,
   "id": "f274b99f-5611-4a6b-bd82-16e1bc03bec3",
   "metadata": {},
   "outputs": [
    {
     "data": {
      "text/plain": [
       "14"
      ]
     },
     "execution_count": 51,
     "metadata": {},
     "output_type": "execute_result"
    }
   ],
   "source": [
    "# Matrix multiplication by hand\n",
    "(1*1) + (2*2) + (3*3)"
   ]
  },
  {
   "cell_type": "code",
   "execution_count": 52,
   "id": "b587a93b-221a-456b-a9e9-bbe68bf455e8",
   "metadata": {},
   "outputs": [
    {
     "name": "stdout",
     "output_type": "stream",
     "text": [
      "CPU times: user 1.03 ms, sys: 897 µs, total: 1.93 ms\n",
      "Wall time: 1.94 ms\n"
     ]
    },
    {
     "data": {
      "text/plain": [
       "tensor(14)"
      ]
     },
     "execution_count": 52,
     "metadata": {},
     "output_type": "execute_result"
    }
   ],
   "source": [
    "%%time \n",
    "value=0\n",
    "for i in range(len(tensor)):\n",
    "    value += tensor[i]*tensor[i]\n",
    "value ## 1.77 milliseconds"
   ]
  },
  {
   "cell_type": "code",
   "execution_count": 53,
   "id": "c5a5503f-1a57-4b11-9ba6-0a226353196e",
   "metadata": {},
   "outputs": [
    {
     "name": "stdout",
     "output_type": "stream",
     "text": [
      "CPU times: user 72 µs, sys: 4 µs, total: 76 µs\n",
      "Wall time: 48.2 µs\n"
     ]
    },
    {
     "data": {
      "text/plain": [
       "tensor(14)"
      ]
     },
     "execution_count": 53,
     "metadata": {},
     "output_type": "execute_result"
    }
   ],
   "source": [
    "%%time\n",
    "torch.matmul(tensor, tensor) ## 589 micro-seconds\n",
    "# also can use `@` for matrix multiplication"
   ]
  },
  {
   "cell_type": "markdown",
   "id": "7e572ed2-0e16-4188-a0f9-42a6938b38b2",
   "metadata": {},
   "source": [
    "### Matrix Multiplication - Two Main Rules\n",
    "\n",
    "One of the most common errors in deep learning is shape error\n",
    "\n",
    "**`Rule 1`**: The **inner dimensions** must match\n",
    "* `(3,2) @ (3,2)` - won't work\n",
    "* `(2,3) @ (3,2)` - will work\n",
    "* `(3, 2) @ (2,3)` - will work\n",
    "  \n",
    "**`Rule 2`**: The resulting matrix has a shape of the **outer dimensions**\n",
    "* `(2,3) @ (3,2)` -> `(2,2)`\n",
    "*  `3,2 @ (2,3)` -> `(3,3)`"
   ]
  },
  {
   "cell_type": "code",
   "execution_count": null,
   "id": "1dd81553-8413-4393-b80f-a4c9302d2373",
   "metadata": {},
   "outputs": [],
   "source": []
  },
  {
   "cell_type": "code",
   "execution_count": 54,
   "id": "25eccb61-e550-4e2c-8e6c-2e41a4218cb7",
   "metadata": {},
   "outputs": [
    {
     "data": {
      "text/plain": [
       "torch.Size([3, 2])"
      ]
     },
     "execution_count": 54,
     "metadata": {},
     "output_type": "execute_result"
    }
   ],
   "source": [
    "torch.rand(3,2).shape"
   ]
  },
  {
   "cell_type": "code",
   "execution_count": 55,
   "id": "384c2e8e-83d2-435c-b62b-c07f79c6308f",
   "metadata": {},
   "outputs": [
    {
     "data": {
      "text/plain": [
       "tensor([[0.3357, 0.6320, 0.3440],\n",
       "        [0.1770, 0.3743, 0.1564],\n",
       "        [0.4238, 0.8495, 0.4030]])"
      ]
     },
     "execution_count": 55,
     "metadata": {},
     "output_type": "execute_result"
    }
   ],
   "source": [
    "torch.matmul(torch.rand(3,2), torch.rand(2,3))"
   ]
  },
  {
   "cell_type": "code",
   "execution_count": 56,
   "id": "16900ba2-a829-4d92-ba54-be88e44f693b",
   "metadata": {},
   "outputs": [
    {
     "data": {
      "text/plain": [
       "torch.Size([10, 10])"
      ]
     },
     "execution_count": 56,
     "metadata": {},
     "output_type": "execute_result"
    }
   ],
   "source": [
    "torch.matmul(torch.rand(10,10), torch.rand(10,10)).shape"
   ]
  },
  {
   "cell_type": "markdown",
   "id": "e30bc2fa-b1d6-44a9-9ca5-5dfd962d2432",
   "metadata": {},
   "source": [
    "`[2:35]`"
   ]
  },
  {
   "cell_type": "markdown",
   "id": "b35b7181-7fad-4cd2-a215-35b143eb1f05",
   "metadata": {},
   "source": [
    "### One of the most common errors in deep learning: shape errors"
   ]
  },
  {
   "cell_type": "code",
   "execution_count": 57,
   "id": "6ad7c728-1eea-43dc-b064-d50f41dca085",
   "metadata": {},
   "outputs": [
    {
     "ename": "RuntimeError",
     "evalue": "mat1 and mat2 shapes cannot be multiplied (3x2 and 3x2)",
     "output_type": "error",
     "traceback": [
      "\u001b[0;31m---------------------------------------------------------------------------\u001b[0m",
      "\u001b[0;31mRuntimeError\u001b[0m                              Traceback (most recent call last)",
      "Cell \u001b[0;32mIn[57], line 10\u001b[0m\n\u001b[1;32m      2\u001b[0m tensor_A \u001b[38;5;241m=\u001b[39m torch\u001b[38;5;241m.\u001b[39mtensor([[\u001b[38;5;241m1\u001b[39m,\u001b[38;5;241m2\u001b[39m],\n\u001b[1;32m      3\u001b[0m                          [\u001b[38;5;241m3\u001b[39m,\u001b[38;5;241m4\u001b[39m],\n\u001b[1;32m      4\u001b[0m                          [\u001b[38;5;241m5\u001b[39m,\u001b[38;5;241m6\u001b[39m]])\n\u001b[1;32m      6\u001b[0m tensor_B \u001b[38;5;241m=\u001b[39m torch\u001b[38;5;241m.\u001b[39mtensor([[\u001b[38;5;241m7\u001b[39m,\u001b[38;5;241m10\u001b[39m],\n\u001b[1;32m      7\u001b[0m                          [\u001b[38;5;241m8\u001b[39m,\u001b[38;5;241m11\u001b[39m],\n\u001b[1;32m      8\u001b[0m                          [\u001b[38;5;241m9\u001b[39m,\u001b[38;5;241m12\u001b[39m]])\n\u001b[0;32m---> 10\u001b[0m \u001b[43mtorch\u001b[49m\u001b[38;5;241;43m.\u001b[39;49m\u001b[43mmatmul\u001b[49m\u001b[43m(\u001b[49m\u001b[43mtensor_A\u001b[49m\u001b[43m,\u001b[49m\u001b[43m \u001b[49m\u001b[43mtensor_B\u001b[49m\u001b[43m)\u001b[49m \u001b[38;5;66;03m# torch.mm is the same as torch.matmul\u001b[39;00m\n",
      "\u001b[0;31mRuntimeError\u001b[0m: mat1 and mat2 shapes cannot be multiplied (3x2 and 3x2)"
     ]
    }
   ],
   "source": [
    "# Shape for matrix multiplication\n",
    "tensor_A = torch.tensor([[1,2],\n",
    "                         [3,4],\n",
    "                         [5,6]])\n",
    "\n",
    "tensor_B = torch.tensor([[7,10],\n",
    "                         [8,11],\n",
    "                         [9,12]])\n",
    "\n",
    "torch.matmul(tensor_A, tensor_B) # torch.mm is the same as torch.matmul"
   ]
  },
  {
   "cell_type": "code",
   "execution_count": 58,
   "id": "ef5d162a-6a20-4123-9f37-5d2ab8c06d5a",
   "metadata": {},
   "outputs": [
    {
     "data": {
      "text/plain": [
       "(torch.Size([3, 2]), torch.Size([3, 2]))"
      ]
     },
     "execution_count": 58,
     "metadata": {},
     "output_type": "execute_result"
    }
   ],
   "source": [
    "'http://matrixmultiplication.xyz/'\n",
    "\n",
    "tensor_A.shape, tensor_B.shape"
   ]
  },
  {
   "cell_type": "markdown",
   "id": "269393f4-9866-445d-87da-eb89a77ebc2f",
   "metadata": {},
   "source": [
    "### To fix tensor shape issues:\n",
    "+ check this out == 'http://matrixmultiplication.xyz/'\n",
    "+ can manipulate the shape of one of the tensors using tranpose\n",
    "+ A **`transpose`** switches the axes of dimensions of a given tensor"
   ]
  },
  {
   "cell_type": "code",
   "execution_count": 59,
   "id": "c317e425-fd4f-4dfe-9a33-c11be39a6404",
   "metadata": {},
   "outputs": [
    {
     "data": {
      "text/plain": [
       "tensor([[ 7, 10],\n",
       "        [ 8, 11],\n",
       "        [ 9, 12]])"
      ]
     },
     "execution_count": 59,
     "metadata": {},
     "output_type": "execute_result"
    }
   ],
   "source": [
    "tensor_B"
   ]
  },
  {
   "cell_type": "code",
   "execution_count": 60,
   "id": "566ddf62-c158-4010-a6c1-4b7c1ae2ec4a",
   "metadata": {},
   "outputs": [
    {
     "data": {
      "text/plain": [
       "tensor([[ 7,  8,  9],\n",
       "        [10, 11, 12]])"
      ]
     },
     "execution_count": 60,
     "metadata": {},
     "output_type": "execute_result"
    }
   ],
   "source": [
    "# implement T\n",
    "tensor_B.T"
   ]
  },
  {
   "cell_type": "code",
   "execution_count": 61,
   "id": "79cd52bf-4e48-4d11-a08b-dec3bb58e836",
   "metadata": {},
   "outputs": [
    {
     "data": {
      "text/plain": [
       "(tensor([[ 7, 10],\n",
       "         [ 8, 11],\n",
       "         [ 9, 12]]),\n",
       " torch.Size([3, 2]))"
      ]
     },
     "execution_count": 61,
     "metadata": {},
     "output_type": "execute_result"
    }
   ],
   "source": [
    "tensor_B, tensor_B.shape"
   ]
  },
  {
   "cell_type": "code",
   "execution_count": 62,
   "id": "2322eb61-ea4b-4dd5-840b-4ff15756c704",
   "metadata": {},
   "outputs": [
    {
     "data": {
      "text/plain": [
       "(tensor([[ 7,  8,  9],\n",
       "         [10, 11, 12]]),\n",
       " torch.Size([2, 3]))"
      ]
     },
     "execution_count": 62,
     "metadata": {},
     "output_type": "execute_result"
    }
   ],
   "source": [
    "tensor_B.T, tensor_B.T.shape"
   ]
  },
  {
   "cell_type": "code",
   "execution_count": 63,
   "id": "9fa1d12f-b9fa-41aa-a509-5067fb3d09c9",
   "metadata": {},
   "outputs": [
    {
     "data": {
      "text/plain": [
       "tensor([[ 27,  30,  33],\n",
       "        [ 61,  68,  75],\n",
       "        [ 95, 106, 117]])"
      ]
     },
     "execution_count": 63,
     "metadata": {},
     "output_type": "execute_result"
    }
   ],
   "source": [
    "torch.matmul(tensor_A, tensor_B.T)"
   ]
  },
  {
   "cell_type": "code",
   "execution_count": 64,
   "id": "3db5818c-ec73-410e-8dea-3066841d20fd",
   "metadata": {},
   "outputs": [
    {
     "name": "stdout",
     "output_type": "stream",
     "text": [
      "Original shapes: tensor_A = torch.Size([3, 2]), tensor_b = torch.Size([3, 2])\n",
      "\n",
      "New shapes: tensor_A = torch.Size([3, 2]), tensor_B.T = torch.Size([2, 3])\n",
      "\n",
      "Multiplying: torch.Size([3, 2]) @ torch.Size([2, 3]) <- inner dimensions must match\n",
      "Output: \n",
      "\n",
      "tensor([[ 27,  30,  33],\n",
      "        [ 61,  68,  75],\n",
      "        [ 95, 106, 117]])\n",
      "\n",
      "Output shape: torch.Size([3, 3])\n"
     ]
    }
   ],
   "source": [
    "# the matrix multiplication operation works\n",
    "# when tensor is transposed\n",
    "\n",
    "print(f\"Original shapes: tensor_A = {tensor_A.shape}, tensor_b = {tensor_B.shape}\")\n",
    "print(f\"\\nNew shapes: tensor_A = {tensor_A.shape}, tensor_B.T = {tensor_B.T.shape}\")\n",
    "print(f\"\\nMultiplying: {tensor_A.shape} @ {tensor_B.T.shape} <- inner dimensions must match\")\n",
    "print(\"Output: \\n\")\n",
    "output = torch.matmul(tensor_A, tensor_B.T)\n",
    "print(output)\n",
    "print(f\"\\nOutput shape: {output.shape}\")\n"
   ]
  },
  {
   "cell_type": "markdown",
   "id": "38ca4a84-9d36-4d0f-a478-d93d547562b0",
   "metadata": {},
   "source": [
    "---"
   ]
  },
  {
   "cell_type": "markdown",
   "id": "e6b916e1-5551-4f42-b3f8-b91119c4d1ad",
   "metadata": {},
   "source": [
    "### Finding the min, max, mean and sum [Tensor Aggregration]"
   ]
  },
  {
   "cell_type": "code",
   "execution_count": 65,
   "id": "a597b2b5-80c7-47a0-a63a-d71954165742",
   "metadata": {},
   "outputs": [
    {
     "data": {
      "text/plain": [
       "tensor([  0,  10,  20,  30,  40,  50,  60,  70,  80,  90, 100])"
      ]
     },
     "execution_count": 65,
     "metadata": {},
     "output_type": "execute_result"
    }
   ],
   "source": [
    "# create a tensor\n",
    "x = torch.arange(0,101,10)\n",
    "x"
   ]
  },
  {
   "cell_type": "code",
   "execution_count": 66,
   "id": "01611f44-2dfe-42fe-a071-e1c5b6cb463b",
   "metadata": {},
   "outputs": [
    {
     "data": {
      "text/plain": [
       "(tensor(0), tensor(0))"
      ]
     },
     "execution_count": 66,
     "metadata": {},
     "output_type": "execute_result"
    }
   ],
   "source": [
    "# find the min\n",
    "torch.min(x), x.min()"
   ]
  },
  {
   "cell_type": "code",
   "execution_count": 67,
   "id": "e47ecd3e-3c8c-4042-873e-15d694f02aea",
   "metadata": {},
   "outputs": [
    {
     "data": {
      "text/plain": [
       "(tensor(100), tensor(100))"
      ]
     },
     "execution_count": 67,
     "metadata": {},
     "output_type": "execute_result"
    }
   ],
   "source": [
    "# find the max\n",
    "torch.max(x), x.max()"
   ]
  },
  {
   "cell_type": "code",
   "execution_count": 68,
   "id": "fd1de3ed-45ed-40f9-b3cb-166aeefb1584",
   "metadata": {},
   "outputs": [
    {
     "data": {
      "text/plain": [
       "tensor(50.)"
      ]
     },
     "execution_count": 68,
     "metadata": {},
     "output_type": "execute_result"
    }
   ],
   "source": [
    "# find the mean\n",
    "# torch.mean requires a tensor of float32 to work\n",
    "torch.mean(x.type(torch.float32))"
   ]
  },
  {
   "cell_type": "code",
   "execution_count": 69,
   "id": "ea8b0f39-52cb-42da-9c12-7949d01e64d8",
   "metadata": {},
   "outputs": [
    {
     "data": {
      "text/plain": [
       "tensor(50.)"
      ]
     },
     "execution_count": 69,
     "metadata": {},
     "output_type": "execute_result"
    }
   ],
   "source": [
    "# find the mean\n",
    "x.type(torch.float32).mean()"
   ]
  },
  {
   "cell_type": "code",
   "execution_count": 70,
   "id": "5824f31b-5ec6-4cad-836b-9ec91c4a44ba",
   "metadata": {},
   "outputs": [
    {
     "data": {
      "text/plain": [
       "(tensor(550), tensor(550))"
      ]
     },
     "execution_count": 70,
     "metadata": {},
     "output_type": "execute_result"
    }
   ],
   "source": [
    "# find the sum\n",
    "torch.sum(x), x.sum()"
   ]
  },
  {
   "cell_type": "markdown",
   "id": "c1472948-0125-4353-9ef8-13ebefb3bb5c",
   "metadata": {},
   "source": [
    "#### Finding the positional min and max"
   ]
  },
  {
   "cell_type": "code",
   "execution_count": 71,
   "id": "40406f9a-1acd-466b-8d6b-d550448ce2ca",
   "metadata": {},
   "outputs": [
    {
     "data": {
      "text/plain": [
       "tensor([  0,  10,  20,  30,  40,  50,  60,  70,  80,  90, 100])"
      ]
     },
     "execution_count": 71,
     "metadata": {},
     "output_type": "execute_result"
    }
   ],
   "source": [
    "x"
   ]
  },
  {
   "cell_type": "code",
   "execution_count": 72,
   "id": "7d7338e5-72b3-4982-a2e8-8b58e832c5c4",
   "metadata": {},
   "outputs": [
    {
     "data": {
      "text/plain": [
       "(tensor(0), tensor(0))"
      ]
     },
     "execution_count": 72,
     "metadata": {},
     "output_type": "execute_result"
    }
   ],
   "source": [
    "# find the position in tensor with min value\n",
    "x.argmin(), x[0]"
   ]
  },
  {
   "cell_type": "code",
   "execution_count": 73,
   "id": "f40c297d-5d9d-4904-9980-beaec2e95f3f",
   "metadata": {},
   "outputs": [
    {
     "data": {
      "text/plain": [
       "(tensor(10), tensor(100))"
      ]
     },
     "execution_count": 73,
     "metadata": {},
     "output_type": "execute_result"
    }
   ],
   "source": [
    "# find the position in tensor with max value\n",
    "x.argmax(), x[10]"
   ]
  },
  {
   "cell_type": "markdown",
   "id": "2445c919-af40-47ae-b1c2-043cc95d553a",
   "metadata": {},
   "source": [
    "### Reshaping, viewing and stacking, squeezing and unsqueezing\n",
    "+ Reshaping - reshapes an input tensor to a defined shape\n",
    "+ View - Return a view of an input tensor of certain shape but keep the same memory as original tensor\n",
    "+ Stacking - combine multiple tensors on top (vstack), or side by side (hstack)\n",
    "+ Squeezing - removes all `1` dimensions from a tensor\n",
    "+ Unsqueeze - add a `1` dimension\n",
    "+ Permute - return a view of the input with dimensions permuted in a certain way"
   ]
  },
  {
   "cell_type": "code",
   "execution_count": 74,
   "id": "d2cbce89-7d07-40fb-bc91-5675b4aee632",
   "metadata": {},
   "outputs": [
    {
     "data": {
      "text/plain": [
       "(tensor([1., 2., 3., 4., 5., 6., 7., 8., 9.]), torch.Size([9]))"
      ]
     },
     "execution_count": 74,
     "metadata": {},
     "output_type": "execute_result"
    }
   ],
   "source": [
    "# create a tensor\n",
    "x = torch.arange(1., 10.)\n",
    "x, x.shape"
   ]
  },
  {
   "cell_type": "markdown",
   "id": "b6e4b9da-2faa-40be-badc-4c01f6f32a26",
   "metadata": {},
   "source": [
    "#### Reshaping"
   ]
  },
  {
   "cell_type": "code",
   "execution_count": 75,
   "id": "4cc3f8dc-a8b5-4d27-9477-72a10741e4db",
   "metadata": {},
   "outputs": [
    {
     "data": {
      "text/plain": [
       "(tensor([[1., 2., 3., 4., 5., 6., 7., 8., 9.]]), torch.Size([1, 9]))"
      ]
     },
     "execution_count": 75,
     "metadata": {},
     "output_type": "execute_result"
    }
   ],
   "source": [
    "# add an extra dimension\n",
    "x_reshaped = x.reshape(1,9)\n",
    "x_reshaped, x_reshaped.shape"
   ]
  },
  {
   "cell_type": "code",
   "execution_count": 76,
   "id": "457b5063-8255-45c8-bf3e-0dd8c957dce3",
   "metadata": {},
   "outputs": [
    {
     "data": {
      "text/plain": [
       "(tensor([[1.],\n",
       "         [2.],\n",
       "         [3.],\n",
       "         [4.],\n",
       "         [5.],\n",
       "         [6.],\n",
       "         [7.],\n",
       "         [8.],\n",
       "         [9.]]),\n",
       " torch.Size([9, 1]))"
      ]
     },
     "execution_count": 76,
     "metadata": {},
     "output_type": "execute_result"
    }
   ],
   "source": [
    "x_reshaped = x.reshape(9,1)\n",
    "x_reshaped, x_reshaped.shape"
   ]
  },
  {
   "cell_type": "markdown",
   "id": "d596ddb4-41ce-4d56-97dd-08941324cea3",
   "metadata": {},
   "source": [
    "#### View"
   ]
  },
  {
   "cell_type": "code",
   "execution_count": 77,
   "id": "1c496f94-e858-44f1-a344-bdc73be3b6d0",
   "metadata": {},
   "outputs": [
    {
     "data": {
      "text/plain": [
       "(tensor([[1., 2., 3., 4., 5., 6., 7., 8., 9.]]), torch.Size([1, 9]))"
      ]
     },
     "execution_count": 77,
     "metadata": {},
     "output_type": "execute_result"
    }
   ],
   "source": [
    "# change the view\n",
    "z = x.view(1,9)\n",
    "z, z.shape"
   ]
  },
  {
   "cell_type": "code",
   "execution_count": 78,
   "id": "e08ede3d-026b-453f-afda-dd34d05dd72b",
   "metadata": {},
   "outputs": [
    {
     "data": {
      "text/plain": [
       "(tensor([[5., 2., 3., 4., 5., 6., 7., 8., 9.]]),\n",
       " tensor([5., 2., 3., 4., 5., 6., 7., 8., 9.]))"
      ]
     },
     "execution_count": 78,
     "metadata": {},
     "output_type": "execute_result"
    }
   ],
   "source": [
    "# changing z changes x (becuse a view or a tenor shares the same memory)\n",
    "z[:,0]=5\n",
    "z,x"
   ]
  },
  {
   "cell_type": "markdown",
   "id": "0dcece24-9004-4f18-a570-118af3910c6a",
   "metadata": {},
   "source": [
    "#### Stack tensors on top of each other"
   ]
  },
  {
   "cell_type": "code",
   "execution_count": 79,
   "id": "38bbb5ba-5440-427f-af12-232e8faa6334",
   "metadata": {},
   "outputs": [
    {
     "data": {
      "text/plain": [
       "tensor([[5., 2., 3., 4., 5., 6., 7., 8., 9.],\n",
       "        [5., 2., 3., 4., 5., 6., 7., 8., 9.],\n",
       "        [5., 2., 3., 4., 5., 6., 7., 8., 9.],\n",
       "        [5., 2., 3., 4., 5., 6., 7., 8., 9.]])"
      ]
     },
     "execution_count": 79,
     "metadata": {},
     "output_type": "execute_result"
    }
   ],
   "source": [
    "#dimensions=0\n",
    "x_stacked = torch.stack([x,x,x,x],dim=0)\n",
    "x_stacked"
   ]
  },
  {
   "cell_type": "code",
   "execution_count": 80,
   "id": "115bfc88-db2d-4381-bb56-9aca8cd09cd9",
   "metadata": {},
   "outputs": [
    {
     "data": {
      "text/plain": [
       "tensor([[5., 5., 5., 5.],\n",
       "        [2., 2., 2., 2.],\n",
       "        [3., 3., 3., 3.],\n",
       "        [4., 4., 4., 4.],\n",
       "        [5., 5., 5., 5.],\n",
       "        [6., 6., 6., 6.],\n",
       "        [7., 7., 7., 7.],\n",
       "        [8., 8., 8., 8.],\n",
       "        [9., 9., 9., 9.]])"
      ]
     },
     "execution_count": 80,
     "metadata": {},
     "output_type": "execute_result"
    }
   ],
   "source": [
    "# dim =1\n",
    "x_stacked = torch.stack([x,x,x,x],dim=1)\n",
    "x_stacked"
   ]
  },
  {
   "cell_type": "markdown",
   "id": "2bdc5dca-3be9-4ba8-b8b7-aa5c77ef77c7",
   "metadata": {},
   "source": [
    "#### Squeeze, unsqueeze"
   ]
  },
  {
   "cell_type": "code",
   "execution_count": 81,
   "id": "15f7b6fe-9c3e-4522-be75-b3ec1a14f109",
   "metadata": {},
   "outputs": [
    {
     "data": {
      "text/plain": [
       "torch.Size([2, 2, 1, 2])"
      ]
     },
     "execution_count": 81,
     "metadata": {},
     "output_type": "execute_result"
    }
   ],
   "source": [
    "# torch.squeeze (removes all single dimensions from a target tensor)\n",
    "x = torch.zeros(2,1,2,1,2)\n",
    "x.size()\n",
    "y = torch.squeeze(x)\n",
    "y.size()\n",
    "y=torch.squeeze(x,0)\n",
    "y.size()\n",
    "y=torch.squeeze(x,1)\n",
    "y.size()"
   ]
  },
  {
   "cell_type": "code",
   "execution_count": 82,
   "id": "2f433c6a-1fa3-48a2-80e4-15b169217cc6",
   "metadata": {},
   "outputs": [
    {
     "data": {
      "text/plain": [
       "(torch.Size([9, 1]), 2)"
      ]
     },
     "execution_count": 82,
     "metadata": {},
     "output_type": "execute_result"
    }
   ],
   "source": [
    "x_reshaped.shape, x_reshaped.dim()"
   ]
  },
  {
   "cell_type": "code",
   "execution_count": 83,
   "id": "21a85af2-4c7f-4b33-9fc1-a68fd7e4586d",
   "metadata": {},
   "outputs": [
    {
     "data": {
      "text/plain": [
       "tensor([5., 2., 3., 4., 5., 6., 7., 8., 9.])"
      ]
     },
     "execution_count": 83,
     "metadata": {},
     "output_type": "execute_result"
    }
   ],
   "source": [
    "x_reshaped.squeeze()"
   ]
  },
  {
   "cell_type": "code",
   "execution_count": 84,
   "id": "b2b5b155-0f9d-45c5-ad2d-bf17564f9382",
   "metadata": {},
   "outputs": [
    {
     "data": {
      "text/plain": [
       "(torch.Size([9]), 1)"
      ]
     },
     "execution_count": 84,
     "metadata": {},
     "output_type": "execute_result"
    }
   ],
   "source": [
    "x_reshaped.squeeze().shape, x_reshaped.squeeze().dim()"
   ]
  },
  {
   "cell_type": "code",
   "execution_count": 85,
   "id": "9c1c3d86-df4c-47a4-9f8e-ebed9878e902",
   "metadata": {},
   "outputs": [
    {
     "name": "stdout",
     "output_type": "stream",
     "text": [
      "\n",
      "New tensor: tensor([5., 2., 3., 4., 5., 6., 7., 8., 9.])\n",
      "New shape: torch.Size([9])\n"
     ]
    }
   ],
   "source": [
    "x_squeezed = x_reshaped.squeeze()\n",
    "print(f\"\\nNew tensor: {x_squeezed}\")\n",
    "print(f\"New shape: {x_squeezed.shape}\")"
   ]
  },
  {
   "cell_type": "code",
   "execution_count": 86,
   "id": "4f8d78b2-2082-4b71-befd-812a1fd9720c",
   "metadata": {},
   "outputs": [
    {
     "name": "stdout",
     "output_type": "stream",
     "text": [
      "Previous target: tensor([5., 2., 3., 4., 5., 6., 7., 8., 9.])\n",
      "Previous shape: torch.Size([9])\n",
      "\n",
      "New Tensor: tensor([[5., 2., 3., 4., 5., 6., 7., 8., 9.]])\n",
      "new shape: torch.Size([1, 9])\n"
     ]
    }
   ],
   "source": [
    "# torch.unsqueeze() - add a single dimension to target tesnor at specific dim\n",
    "print(f\"Previous target: {x_squeezed}\")\n",
    "print(f\"Previous shape: {x_squeezed.shape}\")\n",
    "\n",
    "# add an extra dimension\n",
    "x_unsqueezed = x_squeezed.unsqueeze(dim=0)\n",
    "print(f\"\\nNew Tensor: {x_unsqueezed}\")\n",
    "print(f\"new shape: {x_unsqueezed.shape}\")"
   ]
  },
  {
   "cell_type": "code",
   "execution_count": 87,
   "id": "968eae38-dcda-474c-bc55-c5fdf98061bc",
   "metadata": {},
   "outputs": [
    {
     "name": "stdout",
     "output_type": "stream",
     "text": [
      "Previous target: tensor([5., 2., 3., 4., 5., 6., 7., 8., 9.])\n",
      "Previous shape: torch.Size([9])\n",
      "\n",
      "New Tensor: tensor([[5.],\n",
      "        [2.],\n",
      "        [3.],\n",
      "        [4.],\n",
      "        [5.],\n",
      "        [6.],\n",
      "        [7.],\n",
      "        [8.],\n",
      "        [9.]])\n",
      "new shape: torch.Size([9, 1])\n"
     ]
    }
   ],
   "source": [
    "print(f\"Previous target: {x_squeezed}\")\n",
    "print(f\"Previous shape: {x_squeezed.shape}\")\n",
    "\n",
    "# add an extra dimension\n",
    "x_unsqueezed = x_squeezed.unsqueeze(dim=1)\n",
    "print(f\"\\nNew Tensor: {x_unsqueezed}\")\n",
    "print(f\"new shape: {x_unsqueezed.shape}\")"
   ]
  },
  {
   "cell_type": "markdown",
   "id": "e945ca8b-3439-4e4d-9c40-5fcd806cdad1",
   "metadata": {},
   "source": [
    "#### Permute\n",
    "+ returns a view of the original tensor with reshaped dimensions "
   ]
  },
  {
   "cell_type": "code",
   "execution_count": 88,
   "id": "07f1a89a-aa56-4d4d-b140-d7d1e39873e7",
   "metadata": {},
   "outputs": [
    {
     "name": "stdout",
     "output_type": "stream",
     "text": [
      "Previous shape: torch.Size([224, 224, 3])\n",
      "New shape: torch.Size([3, 224, 224])\n"
     ]
    }
   ],
   "source": [
    "x_original = torch.rand(size=(224,224,3)) # height, width, color channel of image\n",
    "\n",
    "# permute the original tensor to reannrage the axis (or dim) order\n",
    "x_permuted = x_original.permute(2,0,1) # shifts axis 0->1, 1->2, and 2->0\n",
    "\n",
    "print(f\"Previous shape: {x_original.shape}\")\n",
    "print(f\"New shape: {x_permuted.shape}\")"
   ]
  },
  {
   "cell_type": "code",
   "execution_count": 91,
   "id": "883ffc1a-069f-4ea7-9508-abff5f1bf14a",
   "metadata": {},
   "outputs": [
    {
     "data": {
      "text/plain": [
       "(tensor(78218.), tensor(78218.))"
      ]
     },
     "execution_count": 91,
     "metadata": {},
     "output_type": "execute_result"
    }
   ],
   "source": [
    "x_original[0,0,0] = 78218\n",
    "x_original[0,0,0], x_permuted[0,0,0]"
   ]
  },
  {
   "cell_type": "markdown",
   "id": "e8cbb949-26c8-4042-a6cd-fc58ff4e92ba",
   "metadata": {},
   "source": [
    "#### Indexing (selecting data from tensors)"
   ]
  },
  {
   "cell_type": "code",
   "execution_count": 2,
   "id": "8e66da05-a239-408f-8703-e837bb4d3b59",
   "metadata": {},
   "outputs": [
    {
     "data": {
      "text/plain": [
       "(tensor([[[1, 2, 3],\n",
       "          [4, 5, 6],\n",
       "          [7, 8, 9]]]),\n",
       " torch.Size([1, 3, 3]))"
      ]
     },
     "execution_count": 2,
     "metadata": {},
     "output_type": "execute_result"
    }
   ],
   "source": [
    "# create a tensor\n",
    "x = torch.arange(1,10).reshape(1,3,3)\n",
    "x, x.shape"
   ]
  },
  {
   "cell_type": "code",
   "execution_count": 3,
   "id": "c57e3ab2-a1d1-41a0-a05a-dbf52ff7ddb1",
   "metadata": {},
   "outputs": [
    {
     "data": {
      "text/plain": [
       "tensor([[1, 2, 3],\n",
       "        [4, 5, 6],\n",
       "        [7, 8, 9]])"
      ]
     },
     "execution_count": 3,
     "metadata": {},
     "output_type": "execute_result"
    }
   ],
   "source": [
    "# index on new tensor\n",
    "x[0]"
   ]
  },
  {
   "cell_type": "code",
   "execution_count": 4,
   "id": "7b772309-da89-4f14-9aee-accfacf73dab",
   "metadata": {},
   "outputs": [
    {
     "data": {
      "text/plain": [
       "tensor([4, 5, 6])"
      ]
     },
     "execution_count": 4,
     "metadata": {},
     "output_type": "execute_result"
    }
   ],
   "source": [
    "# index no middle bracket\n",
    "x[0][1]"
   ]
  },
  {
   "cell_type": "code",
   "execution_count": 98,
   "id": "5afed838-29d5-48ef-b5a0-d93e23b62073",
   "metadata": {},
   "outputs": [
    {
     "data": {
      "text/plain": [
       "tensor([4, 5, 6])"
      ]
     },
     "execution_count": 98,
     "metadata": {},
     "output_type": "execute_result"
    }
   ],
   "source": [
    "x[0,1]"
   ]
  },
  {
   "cell_type": "code",
   "execution_count": 107,
   "id": "28ade669-8a80-4695-a322-4280cef646f4",
   "metadata": {},
   "outputs": [
    {
     "data": {
      "text/plain": [
       "tensor(5)"
      ]
     },
     "execution_count": 107,
     "metadata": {},
     "output_type": "execute_result"
    }
   ],
   "source": [
    "# index on the most inner bracket (last dimension)\n",
    "x[0,1,1]"
   ]
  },
  {
   "cell_type": "code",
   "execution_count": 108,
   "id": "eb6c2d7a-3e28-4245-94ec-cd8f91ab30d8",
   "metadata": {},
   "outputs": [
    {
     "data": {
      "text/plain": [
       "tensor(9)"
      ]
     },
     "execution_count": 108,
     "metadata": {},
     "output_type": "execute_result"
    }
   ],
   "source": [
    "x[0,2,2]"
   ]
  },
  {
   "cell_type": "code",
   "execution_count": 109,
   "id": "4c51c186-c038-4cd8-b210-110592d92f13",
   "metadata": {},
   "outputs": [
    {
     "data": {
      "text/plain": [
       "tensor([[1, 2, 3]])"
      ]
     },
     "execution_count": 109,
     "metadata": {},
     "output_type": "execute_result"
    }
   ],
   "source": [
    "# can also sue the ':' to select 'all' of a target dimension\n",
    "x[:,0]"
   ]
  },
  {
   "cell_type": "code",
   "execution_count": 110,
   "id": "9cc3efa4-68fc-438a-b2ce-c5cfe218c037",
   "metadata": {},
   "outputs": [
    {
     "data": {
      "text/plain": [
       "tensor([[2, 5, 8]])"
      ]
     },
     "execution_count": 110,
     "metadata": {},
     "output_type": "execute_result"
    }
   ],
   "source": [
    "# get all values of 0th and 1st dimensions but ony index 1 of 2nd dim\n",
    "x[:,:,1]"
   ]
  },
  {
   "cell_type": "code",
   "execution_count": 112,
   "id": "2225820e-7331-48d7-8e6a-8e23fcda8ecf",
   "metadata": {},
   "outputs": [
    {
     "data": {
      "text/plain": [
       "tensor([[5]])"
      ]
     },
     "execution_count": 112,
     "metadata": {},
     "output_type": "execute_result"
    }
   ],
   "source": [
    "# get all values of the 0 dimension but only the 1 index value of 1 and 2\n",
    "x[:, 1, 1:2]"
   ]
  },
  {
   "cell_type": "code",
   "execution_count": 113,
   "id": "4034d888-9c85-4da9-bb34-30c88e140f18",
   "metadata": {},
   "outputs": [
    {
     "data": {
      "text/plain": [
       "tensor([1, 2, 3])"
      ]
     },
     "execution_count": 113,
     "metadata": {},
     "output_type": "execute_result"
    }
   ],
   "source": [
    "# get index 0 of 0th nd 1st dimension and all values of 2nd dim\n",
    "x[0,0,:]"
   ]
  },
  {
   "cell_type": "code",
   "execution_count": 5,
   "id": "acbe251c-8f7b-43e8-af25-de71c6b45d21",
   "metadata": {},
   "outputs": [
    {
     "data": {
      "text/plain": [
       "tensor(9)"
      ]
     },
     "execution_count": 5,
     "metadata": {},
     "output_type": "execute_result"
    }
   ],
   "source": [
    "# Index on x to return 9\n",
    "x[0,2,2]"
   ]
  },
  {
   "cell_type": "code",
   "execution_count": 6,
   "id": "4574ba32-977f-4e60-8a90-e852eef0766a",
   "metadata": {},
   "outputs": [
    {
     "data": {
      "text/plain": [
       "tensor([[3, 6, 9]])"
      ]
     },
     "execution_count": 6,
     "metadata": {},
     "output_type": "execute_result"
    }
   ],
   "source": [
    "# index on x to return 3, 6, 9\n",
    "x[:,:,2]"
   ]
  },
  {
   "cell_type": "markdown",
   "id": "d4e3c3e9-f6c0-445e-acd9-c043d4d911be",
   "metadata": {},
   "source": [
    "#### PyTorch tensors & NumPy\n",
    "\n",
    "NumPy is a popular scientific Python numerical computing library with fucntionality to interact\n",
    "+Can change from data in NumPy to a Torch tensor\n",
    "+ PyTorch tensor -> Numpy -> `torch.Tensor.numpy()`"
   ]
  },
  {
   "cell_type": "code",
   "execution_count": 11,
   "id": "75d45780-5a19-43ee-ac56-ecce17b51a64",
   "metadata": {},
   "outputs": [
    {
     "data": {
      "text/plain": [
       "(array([1., 2., 3., 4., 5., 6., 7.]),\n",
       " tensor([1., 2., 3., 4., 5., 6., 7.], dtype=torch.float64))"
      ]
     },
     "execution_count": 11,
     "metadata": {},
     "output_type": "execute_result"
    }
   ],
   "source": [
    "import torch\n",
    "import numpy as np\n",
    "\n",
    "array = np.arange(1.0, 8.0)\n",
    "tensor = torch.from_numpy(array)\n",
    "array, tensor"
   ]
  },
  {
   "cell_type": "code",
   "execution_count": 12,
   "id": "ac81b155-5b38-49c8-bc03-f96ee5c5df52",
   "metadata": {},
   "outputs": [
    {
     "data": {
      "text/plain": [
       "(dtype('float64'), torch.float64)"
      ]
     },
     "execution_count": 12,
     "metadata": {},
     "output_type": "execute_result"
    }
   ],
   "source": [
    "array.dtype, tensor.dtype"
   ]
  },
  {
   "cell_type": "code",
   "execution_count": 13,
   "id": "ddb24faf-0f37-40e9-93a2-7e9f66d4545f",
   "metadata": {},
   "outputs": [
    {
     "data": {
      "text/plain": [
       "(array([2., 3., 4., 5., 6., 7., 8.]),\n",
       " tensor([1., 2., 3., 4., 5., 6., 7.], dtype=torch.float64))"
      ]
     },
     "execution_count": 13,
     "metadata": {},
     "output_type": "execute_result"
    }
   ],
   "source": [
    "# change the value of array - what will it do to `tensor`\n",
    "array = array + 1\n",
    "array, tensor"
   ]
  },
  {
   "cell_type": "code",
   "execution_count": 14,
   "id": "cbaad21a-5a83-4756-92b7-6d1ccd1b6e9f",
   "metadata": {},
   "outputs": [
    {
     "data": {
      "text/plain": [
       "(tensor([1., 1., 1., 1., 1., 1., 1.]),\n",
       " array([1., 1., 1., 1., 1., 1., 1.], dtype=float32))"
      ]
     },
     "execution_count": 14,
     "metadata": {},
     "output_type": "execute_result"
    }
   ],
   "source": [
    "# Tensor uo NumPy array\n",
    "tensor = torch.ones(7)\n",
    "numpy_tensor = tensor.numpy()\n",
    "tensor, numpy_tensor"
   ]
  },
  {
   "cell_type": "code",
   "execution_count": 15,
   "id": "2080c350-cae7-4472-a246-f1141666810a",
   "metadata": {},
   "outputs": [
    {
     "data": {
      "text/plain": [
       "(tensor([2., 2., 2., 2., 2., 2., 2.]),\n",
       " array([1., 1., 1., 1., 1., 1., 1.], dtype=float32))"
      ]
     },
     "execution_count": 15,
     "metadata": {},
     "output_type": "execute_result"
    }
   ],
   "source": [
    "# change the tensor, what happens to `numpy_tensor`\n",
    "tensor = tensor +1\n",
    "tensor, numpy_tensor"
   ]
  },
  {
   "cell_type": "markdown",
   "id": "ab195554-e757-443d-b302-00ff5e96057b",
   "metadata": {},
   "source": [
    "#### Reproducibility - taking the random out of random\n",
    "\n",
    "+ In short, a neural net learns by starting with random numbers - > perform tensor operations -> update random numbers to better reflect the numbers/data\n",
    "+ To reduce the randomness for neural nets comes the concept of a `random seed`.\n",
    "+ What the random seed does is 'flavor' the randomness"
   ]
  },
  {
   "cell_type": "code",
   "execution_count": 17,
   "id": "cfc42688-8eda-4e24-a37f-76b86773cc63",
   "metadata": {},
   "outputs": [
    {
     "data": {
      "text/plain": [
       "tensor([[0.5129, 0.8009, 0.2816],\n",
       "        [0.1626, 0.2357, 0.1348],\n",
       "        [0.8314, 0.5502, 0.0405]])"
      ]
     },
     "execution_count": 17,
     "metadata": {},
     "output_type": "execute_result"
    }
   ],
   "source": [
    "torch.rand(3,3) # random #s every single time"
   ]
  },
  {
   "cell_type": "code",
   "execution_count": 18,
   "id": "34819002-86e3-4e79-aa27-9390d658c469",
   "metadata": {},
   "outputs": [
    {
     "name": "stdout",
     "output_type": "stream",
     "text": [
      "tensor([[0.8012, 0.5115, 0.7311, 0.8516],\n",
      "        [0.2778, 0.7239, 0.6151, 0.4462],\n",
      "        [0.0113, 0.4933, 0.0973, 0.8319]])\n",
      "tensor([[0.2991, 0.0749, 0.1459, 0.9224],\n",
      "        [0.6752, 0.1584, 0.4318, 0.5010],\n",
      "        [0.3136, 0.1715, 0.8901, 0.8849]])\n",
      "tensor([[False, False, False, False],\n",
      "        [False, False, False, False],\n",
      "        [False, False, False, False]])\n"
     ]
    }
   ],
   "source": [
    "import torch\n",
    "\n",
    "# create two random tensors\n",
    "random_tensor_A = torch.rand(3,4)\n",
    "random_tensor_B = torch.rand(3,4)\n",
    "\n",
    "print(random_tensor_A)\n",
    "print(random_tensor_B)\n",
    "print(random_tensor_A==random_tensor_B)"
   ]
  },
  {
   "cell_type": "code",
   "execution_count": 20,
   "id": "b2710107-5d5b-40a4-ade7-cb2d9b8fd3a9",
   "metadata": {},
   "outputs": [
    {
     "name": "stdout",
     "output_type": "stream",
     "text": [
      "tensor([[0.4963, 0.7682, 0.0885, 0.1320],\n",
      "        [0.3074, 0.6341, 0.4901, 0.8964],\n",
      "        [0.4556, 0.6323, 0.3489, 0.4017]])\n",
      "tensor([[0.4963, 0.7682, 0.0885, 0.1320],\n",
      "        [0.3074, 0.6341, 0.4901, 0.8964],\n",
      "        [0.4556, 0.6323, 0.3489, 0.4017]])\n",
      "tensor([[True, True, True, True],\n",
      "        [True, True, True, True],\n",
      "        [True, True, True, True]])\n"
     ]
    }
   ],
   "source": [
    "# let's make some random but reproducible tensors\n",
    "# set the random seed\n",
    "RANDOM_SEED = 0\n",
    "torch.manual_seed(RANDOM_SEED)\n",
    "random_tensor_C = torch.rand(3,4)\n",
    "\n",
    "torch.manual_seed(RANDOM_SEED) ## need to specify a 2nd time if calling random seed on anohter\n",
    "random_tensor_D = torch.rand(3,4)\n",
    "\n",
    "print(random_tensor_C)\n",
    "print(random_tensor_D)\n",
    "print(random_tensor_C==random_tensor_D)"
   ]
  },
  {
   "cell_type": "markdown",
   "id": "395f4c94-0066-49e8-8010-bd0b40163109",
   "metadata": {},
   "source": [
    "#### Running tesnors an PyTorch objects on GPUs\n",
    "+ GPU = faster computaiton on numbers"
   ]
  },
  {
   "cell_type": "code",
   "execution_count": null,
   "id": "9ea9455f-44fe-4d7a-8721-b171d31809e4",
   "metadata": {},
   "outputs": [],
   "source": []
  }
 ],
 "metadata": {
  "kernelspec": {
   "display_name": "Python 3 (ipykernel)",
   "language": "python",
   "name": "python3"
  },
  "language_info": {
   "codemirror_mode": {
    "name": "ipython",
    "version": 3
   },
   "file_extension": ".py",
   "mimetype": "text/x-python",
   "name": "python",
   "nbconvert_exporter": "python",
   "pygments_lexer": "ipython3",
   "version": "3.10.8"
  }
 },
 "nbformat": 4,
 "nbformat_minor": 5
}
